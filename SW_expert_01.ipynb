{
 "cells": [
  {
   "cell_type": "code",
   "execution_count": 8,
   "metadata": {},
   "outputs": [
    {
     "name": "stdout",
     "output_type": "stream",
     "text": [
      "3\n",
      "3 17 1 39 8 41 2 32 99 2\n",
      "#1 200\n",
      "22 8 5 123 7 2 63 7 3 46\n",
      "#2 208\n",
      "6 63 2 3 58 76 21 33 8 1\n",
      "#3 121\n"
     ]
    }
   ],
   "source": [
    "# 01 Diff 1 <홀수 더하기>\n",
    "test_cases = input()\n",
    "idx = 1\n",
    "\n",
    "for i in range(int(test_cases)):\n",
    "    odd = []\n",
    "    numbers = input()\n",
    "    numbers = numbers.split(' ')\n",
    "    numbers = list(map(int, numbers))\n",
    "    for num in numbers:\n",
    "        if num % 2 == 1:\n",
    "            odd.append(num)\n",
    "    print(f'#{idx} {sum(odd)}')\n",
    "    idx += 1"
   ]
  },
  {
   "cell_type": "code",
   "execution_count": 7,
   "metadata": {},
   "outputs": [
    {
     "name": "stdout",
     "output_type": "stream",
     "text": [
      "3 17 1\n"
     ]
    },
    {
     "data": {
      "text/plain": [
       "21"
      ]
     },
     "execution_count": 7,
     "metadata": {},
     "output_type": "execute_result"
    }
   ],
   "source": [
    "odd = []\n",
    "numbers = input()\n",
    "numbers = numbers.split(' ')\n",
    "numbers = list(map(int, numbers))\n",
    "sum(numbers)"
   ]
  },
  {
   "cell_type": "code",
   "execution_count": 6,
   "metadata": {},
   "outputs": [
    {
     "data": {
      "text/plain": [
       "21"
      ]
     },
     "execution_count": 6,
     "metadata": {},
     "output_type": "execute_result"
    }
   ],
   "source": [
    "odd = ['3', '17', '1']\n",
    "sum(map(int, odd))"
   ]
  },
  {
   "cell_type": "code",
   "execution_count": 16,
   "metadata": {},
   "outputs": [
    {
     "name": "stdout",
     "output_type": "stream",
     "text": [
      "36\n",
      "1\n",
      "[1, 2, 3, 4, 5, 6, 7, 8, 9, 10, 11, 12, 13, 14, 15, 16, 17, 18, 19, 20, 21, 22, 23, 24, 25, 26, 27, 28, 29, 30, 31, 32, 33, 34, 35, 36]\n"
     ]
    }
   ],
   "source": [
    "# 02 Diff 2 <간단한 3,6,9 게임>\n",
    "# 1. 숫자를 입력받으면 1부터 그 숫자까지 리스트를 만든다.\n",
    "# 2. 그 리스트를 str으로 변환 후 3,6,9가 들어간 값을 찾을경우\n",
    "# 3. if로 경우를 나눠준다. 만약 1개일 경우 '-', 2개일 경우 '--' , 3개는 '---'로\n",
    "N = input()\n",
    "tsn = ['3', '6', '9', '13', '16']\n",
    "x = [x for x in range(1, int(N)+1)]\n",
    "x = list(map(str, x))\n",
    "for num in x:\n",
    "    if x.count('3') + x.count('6') + x.count('9') == 1:\n",
    "        num = '-'\n",
    "    elif x.count('3') + x.count('6') + x.count('9') == 2:\n",
    "        num = '--'\n",
    "    elif x.count('3') + x.count('6') + x.count('9') == 3:\n",
    "        num = '---'\n",
    "print(x.count(3))\n",
    "print(x)"
   ]
  },
  {
   "cell_type": "code",
   "execution_count": 54,
   "metadata": {},
   "outputs": [
    {
     "ename": "IndentationError",
     "evalue": "unindent does not match any outer indentation level (<tokenize>, line 31)",
     "output_type": "error",
     "traceback": [
      "\u001b[1;36m  File \u001b[1;32m\"<tokenize>\"\u001b[1;36m, line \u001b[1;32m31\u001b[0m\n\u001b[1;33m    result.append(num)\u001b[0m\n\u001b[1;37m    ^\u001b[0m\n\u001b[1;31mIndentationError\u001b[0m\u001b[1;31m:\u001b[0m unindent does not match any outer indentation level\n"
     ]
    }
   ],
   "source": [
    "N = input()\n",
    "tsn = ['3', '6', '9']\n",
    "x = [x for x in range(1, int(N)+1)]\n",
    "x = list(map(str, x))\n",
    "result = []\n",
    "for num in x:\n",
    "    if len(num)==1:\n",
    "        if num[0] in tsn:\n",
    "            result.append('-')\n",
    "        else:\n",
    "            result.append(num)\n",
    "    elif len(num)==2:\n",
    "        if num[0] in tsn:\n",
    "            continue\n",
    "            if num[1] in tsn:\n",
    "                result.append('--')\n",
    "            else:\n",
    "                result.append('-')\n",
    "        else:\n",
    "            result.append(num)\n",
    "    elif len(num)==3:\n",
    "         if num[0] in tsn:\n",
    "            continue\n",
    "            if num[1] in tsn:\n",
    "                continue\n",
    "                if num[2] in tsn:\n",
    "                    result.append('---')\n",
    "                else:\n",
    "                    result.append('-')\n",
    "        \n",
    "        result.append(num)\n",
    "print(result)"
   ]
  },
  {
   "cell_type": "code",
   "execution_count": 44,
   "metadata": {},
   "outputs": [
    {
     "name": "stdout",
     "output_type": "stream",
     "text": [
      "36\n",
      "1 2 - 4 5 - 7 8 - 10 11 12 - 14 15 - 17 18 - 20 21 22 - 24 25 - 27 28 - - - - -- - - --\n"
     ]
    }
   ],
   "source": [
    "n = int(input())\n",
    "x = [str(x) for x in range(1, n+1)]\n",
    "tsn = ['3', '6', '9']\n",
    "result = []\n",
    "for num in x:\n",
    "    cnt = 0\n",
    "    for each in range(len(num)):\n",
    "        if num[each] in tsn :\n",
    "            cnt += 1\n",
    "    if cnt == 1:\n",
    "        result.append('-')\n",
    "    elif cnt == 2:\n",
    "        result.append('--')\n",
    "    elif cnt == 3:\n",
    "        result.append('---')\n",
    "    else:\n",
    "        result.append(num)\n",
    "#     if num.count('3') or num.count('6') or num.count('9'):\n",
    "#         num = '-'*\n",
    "print(' '.join(result))"
   ]
  },
  {
   "cell_type": "code",
   "execution_count": null,
   "metadata": {},
   "outputs": [],
   "source": [
    "N = input()\n",
    "x = [x for x in range(1, int(N)+1)]\n",
    "x = ' '.join(list(map(str, x)))\n",
    "x= x.replace('3','-')\n",
    "x= x.replace('6','-')\n",
    "x= x.replace('9','-')\n",
    "print(x)"
   ]
  },
  {
   "cell_type": "code",
   "execution_count": 34,
   "metadata": {},
   "outputs": [
    {
     "data": {
      "text/plain": [
       "2"
      ]
     },
     "execution_count": 34,
     "metadata": {},
     "output_type": "execute_result"
    }
   ],
   "source": [
    "2 or 0 or 1\n"
   ]
  },
  {
   "cell_type": "code",
   "execution_count": 30,
   "metadata": {},
   "outputs": [
    {
     "data": {
      "text/plain": [
       "3"
      ]
     },
     "execution_count": 30,
     "metadata": {},
     "output_type": "execute_result"
    }
   ],
   "source": [
    "a = '333'\n",
    "a.count('3')"
   ]
  },
  {
   "cell_type": "code",
   "execution_count": 29,
   "metadata": {},
   "outputs": [
    {
     "data": {
      "text/plain": [
       "1"
      ]
     },
     "execution_count": 29,
     "metadata": {},
     "output_type": "execute_result"
    }
   ],
   "source": [
    "a = '1'\n",
    "len(a)"
   ]
  },
  {
   "cell_type": "code",
   "execution_count": 1,
   "metadata": {},
   "outputs": [
    {
     "name": "stdout",
     "output_type": "stream",
     "text": [
      "36\n",
      "['1', '2', '3', '4', '5', '6', '7', '8', '9', '10', '11', '12', '13', '14', '15', '16', '17', '18', '19', '20', '21', '22', '23', '24', '25', '26', '27', '28', '29', '30', '31', '32', '33', '34', '35', '36']\n"
     ]
    }
   ],
   "source": [
    "N = input()\n",
    "x = [x for x in range(1, int(N)+1)]\n",
    "x = list(map(str, x))\n",
    "print(x)"
   ]
  },
  {
   "cell_type": "code",
   "execution_count": 12,
   "metadata": {},
   "outputs": [
    {
     "data": {
      "text/plain": [
       "range(0, 35)"
      ]
     },
     "execution_count": 12,
     "metadata": {},
     "output_type": "execute_result"
    }
   ],
   "source": [
    "range(0, 35)"
   ]
  },
  {
   "cell_type": "code",
   "execution_count": 16,
   "metadata": {},
   "outputs": [
    {
     "name": "stdout",
     "output_type": "stream",
     "text": [
      "<class 'int'>\n"
     ]
    }
   ],
   "source": [
    "x = [x for x in range(1, 36)]\n",
    "print(type(x[0]))"
   ]
  },
  {
   "cell_type": "code",
   "execution_count": 1,
   "metadata": {},
   "outputs": [
    {
     "data": {
      "text/plain": [
       "True"
      ]
     },
     "execution_count": 1,
     "metadata": {},
     "output_type": "execute_result"
    }
   ],
   "source": [
    "a = 0.1 * 3\n",
    "b = 0.3\n",
    "abs(a-b) < 1e-5"
   ]
  }
 ],
 "metadata": {
  "kernelspec": {
   "display_name": "Python 3",
   "language": "python",
   "name": "python3"
  },
  "language_info": {
   "codemirror_mode": {
    "name": "ipython",
    "version": 3
   },
   "file_extension": ".py",
   "mimetype": "text/x-python",
   "name": "python",
   "nbconvert_exporter": "python",
   "pygments_lexer": "ipython3",
   "version": "3.6.7"
  }
 },
 "nbformat": 4,
 "nbformat_minor": 2
}
