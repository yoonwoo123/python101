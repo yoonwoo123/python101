{
 "cells": [
  {
   "cell_type": "code",
   "execution_count": 2,
   "metadata": {},
   "outputs": [
    {
     "name": "stdout",
     "output_type": "stream",
     "text": [
      "3\n",
      "3 16 1\n",
      "#1 4\n",
      "2 1 1\n",
      "#2 2\n",
      "3 2 5\n",
      "#3 8\n"
     ]
    }
   ],
   "source": [
    "# 01 Diff 1 <홀수 더하기>\n",
    "test_cases = input()\n",
    "idx = 1\n",
    "\n",
    "for i in range(int(test_cases)):\n",
    "    odd = []\n",
    "    numbers = input()\n",
    "    numbers = numbers.split(' ')\n",
    "    numbers = list(map(int, numbers))\n",
    "    for num in numbers:\n",
    "        if num % 2 == 1:\n",
    "            odd.append(num)\n",
    "    print(f'#{idx} {sum(odd)}')\n",
    "    idx += 1"
   ]
  },
  {
   "cell_type": "code",
   "execution_count": 7,
   "metadata": {},
   "outputs": [
    {
     "name": "stdout",
     "output_type": "stream",
     "text": [
      "3 5 2\n"
     ]
    },
    {
     "ename": "ValueError",
     "evalue": "invalid literal for int() with base 10: ' '",
     "output_type": "error",
     "traceback": [
      "\u001b[1;31m---------------------------------------------------------------------------\u001b[0m",
      "\u001b[1;31mValueError\u001b[0m                                Traceback (most recent call last)",
      "\u001b[1;32m<ipython-input-7-4ffe4029e3ea>\u001b[0m in \u001b[0;36m<module>\u001b[1;34m\u001b[0m\n\u001b[0;32m      1\u001b[0m \u001b[0modd\u001b[0m \u001b[1;33m=\u001b[0m \u001b[1;33m[\u001b[0m\u001b[1;33m]\u001b[0m\u001b[1;33m\u001b[0m\u001b[1;33m\u001b[0m\u001b[0m\n\u001b[0;32m      2\u001b[0m \u001b[0mnumbers\u001b[0m \u001b[1;33m=\u001b[0m \u001b[0minput\u001b[0m\u001b[1;33m(\u001b[0m\u001b[1;33m)\u001b[0m\u001b[1;33m\u001b[0m\u001b[1;33m\u001b[0m\u001b[0m\n\u001b[1;32m----> 3\u001b[1;33m \u001b[0mlist\u001b[0m\u001b[1;33m(\u001b[0m\u001b[0mmap\u001b[0m\u001b[1;33m(\u001b[0m\u001b[0mint\u001b[0m\u001b[1;33m,\u001b[0m \u001b[0mnumbers\u001b[0m\u001b[1;33m)\u001b[0m\u001b[1;33m)\u001b[0m\u001b[1;33m\u001b[0m\u001b[1;33m\u001b[0m\u001b[0m\n\u001b[0m\u001b[0;32m      4\u001b[0m \u001b[1;31m# numbers = numbers.split(' ')\u001b[0m\u001b[1;33m\u001b[0m\u001b[1;33m\u001b[0m\u001b[1;33m\u001b[0m\u001b[0m\n\u001b[0;32m      5\u001b[0m \u001b[1;31m# numbers = list(map(int, numbers))\u001b[0m\u001b[1;33m\u001b[0m\u001b[1;33m\u001b[0m\u001b[1;33m\u001b[0m\u001b[0m\n",
      "\u001b[1;31mValueError\u001b[0m: invalid literal for int() with base 10: ' '"
     ]
    }
   ],
   "source": [
    "odd = []\n",
    "numbers = input()\n",
    "list(map(int, numbers))\n",
    "# numbers = numbers.split(' ')\n",
    "# numbers = list(map(int, numbers))\n",
    "print(numbers)\n",
    "# sum(numbers)"
   ]
  },
  {
   "cell_type": "code",
   "execution_count": 6,
   "metadata": {},
   "outputs": [
    {
     "data": {
      "text/plain": [
       "21"
      ]
     },
     "execution_count": 6,
     "metadata": {},
     "output_type": "execute_result"
    }
   ],
   "source": [
    "odd = ['3', '17', '1']\n",
    "sum(map(int, odd))"
   ]
  },
  {
   "cell_type": "code",
   "execution_count": 12,
   "metadata": {},
   "outputs": [
    {
     "name": "stdout",
     "output_type": "stream",
     "text": [
      "3\n",
      "3 17 1 39 8 41 2 32 99 2\n",
      "#1 24\n",
      "2 2 2\n",
      "#1 2\n",
      "3 1 4\n",
      "#1 3\n"
     ]
    }
   ],
   "source": [
    "# 02 Diff 1 <평균값 구하기> \n",
    "test_cases = input()\n",
    "idx = 1\n",
    "\n",
    "for i in range(int(test_cases)):\n",
    "    numbers = input()\n",
    "    numbers = numbers.split(' ')\n",
    "    numbers = list(map(int, numbers))\n",
    "    print(f'#{idx} {round(sum(numbers)/len(numbers))}')\n",
    "    idx += 1"
   ]
  },
  {
   "cell_type": "code",
   "execution_count": 14,
   "metadata": {},
   "outputs": [
    {
     "name": "stdout",
     "output_type": "stream",
     "text": [
      "3\n",
      "3 8\n",
      "#1<\n",
      "7 7\n",
      "#2=\n",
      "369 123\n",
      "#3>\n"
     ]
    }
   ],
   "source": [
    "# 03 Diff 1 <큰놈 작은놈 같은놈> \n",
    "test_cases = input()\n",
    "idx = 1\n",
    "\n",
    "for i in range(int(test_cases)):\n",
    "    numbers = input()\n",
    "    numbers = numbers.split(' ')\n",
    "    numbers = list(map(int, numbers))\n",
    "    if numbers[0] > numbers[1]:\n",
    "        print(f'#{idx}' ' >')\n",
    "        idx += 1\n",
    "    elif numbers[0] == numbers[1]:\n",
    "        print(f'#{idx}' ' =')\n",
    "        idx += 1\n",
    "    else:\n",
    "        print(f'#{idx}' ' <')\n",
    "        idx += 1"
   ]
  },
  {
   "cell_type": "code",
   "execution_count": 89,
   "metadata": {},
   "outputs": [
    {
     "name": "stdout",
     "output_type": "stream",
     "text": [
      "3\n",
      "20110228\n",
      "#1 2011/02/28\n",
      "20010229\n",
      "#2 -1\n",
      "20000111\n",
      "#3 2000/01/11\n"
     ]
    }
   ],
   "source": [
    "# 04 Diff 1 <연월일 달력>\n",
    "test_cases = input()\n",
    "\n",
    "for i in range(int(test_cases)):\n",
    "    numbers = input()\n",
    "#     numbers = numbers.split(' ')\n",
    "#     numbers = list(map(int, numbers))\n",
    "    #슬라이싱\n",
    "    year = numbers[:4]\n",
    "    month = numbers[4:6]\n",
    "    day = numbers[6:]\n",
    "    \n",
    "    if int(month)>12 or int(month)<=0:\n",
    "        print(f'#{i+1}'' -1')\n",
    "       \n",
    "    elif int(day)>31 or int(day)<=0:\n",
    "        print(f'#{i+1}'' -1')\n",
    "        \n",
    "    elif int(month)==2 and int(day)>28:\n",
    "        print(f'#{i+1}'' -1')\n",
    "        \n",
    "    else:\n",
    "        print(f'#{i+1} {year}/{month}/{day}')\n",
    "       "
   ]
  },
  {
   "cell_type": "code",
   "execution_count": 19,
   "metadata": {},
   "outputs": [
    {
     "name": "stdout",
     "output_type": "stream",
     "text": [
      "3\n",
      "22220228\n"
     ]
    },
    {
     "ename": "IndexError",
     "evalue": "list index out of range",
     "output_type": "error",
     "traceback": [
      "\u001b[1;31m---------------------------------------------------------------------------\u001b[0m",
      "\u001b[1;31mIndexError\u001b[0m                                Traceback (most recent call last)",
      "\u001b[1;32m<ipython-input-19-54877f2ed02c>\u001b[0m in \u001b[0;36m<module>\u001b[1;34m\u001b[0m\n\u001b[0;32m      9\u001b[0m     \u001b[0mnumbers\u001b[0m \u001b[1;33m=\u001b[0m \u001b[0mnumbers\u001b[0m\u001b[1;33m.\u001b[0m\u001b[0msplit\u001b[0m\u001b[1;33m(\u001b[0m\u001b[1;34m' '\u001b[0m\u001b[1;33m)\u001b[0m\u001b[1;33m\u001b[0m\u001b[1;33m\u001b[0m\u001b[0m\n\u001b[0;32m     10\u001b[0m     \u001b[0mnumbers\u001b[0m \u001b[1;33m=\u001b[0m \u001b[0mlist\u001b[0m\u001b[1;33m(\u001b[0m\u001b[0mmap\u001b[0m\u001b[1;33m(\u001b[0m\u001b[0mint\u001b[0m\u001b[1;33m,\u001b[0m \u001b[0mnumbers\u001b[0m\u001b[1;33m)\u001b[0m\u001b[1;33m)\u001b[0m\u001b[1;33m\u001b[0m\u001b[1;33m\u001b[0m\u001b[0m\n\u001b[1;32m---> 11\u001b[1;33m     \u001b[1;32mif\u001b[0m \u001b[0mnumbers\u001b[0m\u001b[1;33m[\u001b[0m\u001b[1;36m4\u001b[0m\u001b[1;33m]\u001b[0m \u001b[1;33m>\u001b[0m \u001b[1;36m0\u001b[0m \u001b[1;32mand\u001b[0m \u001b[0mnumbers\u001b[0m\u001b[1;33m[\u001b[0m\u001b[1;36m5\u001b[0m\u001b[1;33m]\u001b[0m \u001b[1;33m>\u001b[0m \u001b[1;36m2\u001b[0m\u001b[1;33m:\u001b[0m\u001b[1;33m\u001b[0m\u001b[1;33m\u001b[0m\u001b[0m\n\u001b[0m\u001b[0;32m     12\u001b[0m         \u001b[0mprint\u001b[0m\u001b[1;33m(\u001b[0m\u001b[1;34mf'#{idx}'\u001b[0m \u001b[1;34m' -1'\u001b[0m\u001b[1;33m)\u001b[0m\u001b[1;33m\u001b[0m\u001b[1;33m\u001b[0m\u001b[0m\n\u001b[0;32m     13\u001b[0m         \u001b[0midx\u001b[0m \u001b[1;33m+=\u001b[0m \u001b[1;36m1\u001b[0m\u001b[1;33m\u001b[0m\u001b[1;33m\u001b[0m\u001b[0m\n",
      "\u001b[1;31mIndexError\u001b[0m: list index out of range"
     ]
    }
   ],
   "source": [
    "\n",
    "\n",
    "# 2월의 경우는 day : 1~28\n",
    "# 1. 숫자 8개를 입력받으면 4개 2개 2개 로 잘라서 2개 2개 짜리를 month랑 day에 넣어준다. 8개를못받으면 -1출력\n",
    "# 2. month에 있는 2개를 int로 바꿔준 것이 12보다 크다면 -1 출력\n",
    "# 3. d for in map(int,day) 에서 d>31 이면 -1 출력\n",
    "# 4. m for in map(int, month) 에서 m ==2 and d>28 이면 -1 출력\n",
    "test_cases = input()\n",
    "idx = 1\n",
    "month = [x for x in range(1,13)]\n",
    "day = [d for d in range(1,32)]\n",
    "for i in range(int(test_cases)):\n",
    "    numbers = input()\n",
    "    numbers = numbers.split(' ')\n",
    "    numbers = list(map(int, numbers))\n",
    "    if numbers[4] > 0 and numbers[5] > 2:\n",
    "        print(f'#{idx}' ' -1')\n",
    "        idx += 1\n",
    "    elif numers[6] > 3 and numbers[7] >1:\n",
    "        print(f'#{idx}' ' -1')\n",
    "        idx += 1\n",
    "    elif numbers[4] ==0 and numbers[5] == 2:\n",
    "        if numbers[6] >1 and numbers[7] >8:\n",
    "            print(f'#{idx}' ' -1')\n",
    "            idx += 1\n",
    "    print(numbers)"
   ]
  },
  {
   "cell_type": "code",
   "execution_count": 75,
   "metadata": {},
   "outputs": [
    {
     "name": "stdout",
     "output_type": "stream",
     "text": [
      "7890\n"
     ]
    }
   ],
   "source": [
    "numbers = '23457890'\n",
    "year = numbers[4:8]\n",
    "print(year)"
   ]
  },
  {
   "cell_type": "code",
   "execution_count": 21,
   "metadata": {},
   "outputs": [
    {
     "name": "stdout",
     "output_type": "stream",
     "text": [
      "[1, 2, 3, 4, 5, 6, 7, 8, 9, 10, 11, 12]\n"
     ]
    },
    {
     "data": {
      "text/plain": [
       "1"
      ]
     },
     "execution_count": 21,
     "metadata": {},
     "output_type": "execute_result"
    }
   ],
   "source": [
    "month = [x for x in range(1,13)]\n",
    "print(month)\n",
    "int('01')"
   ]
  },
  {
   "cell_type": "code",
   "execution_count": null,
   "metadata": {},
   "outputs": [],
   "source": []
  },
  {
   "cell_type": "code",
   "execution_count": null,
   "metadata": {},
   "outputs": [],
   "source": []
  },
  {
   "cell_type": "code",
   "execution_count": 16,
   "metadata": {},
   "outputs": [
    {
     "name": "stdout",
     "output_type": "stream",
     "text": [
      "36\n",
      "1\n",
      "[1, 2, 3, 4, 5, 6, 7, 8, 9, 10, 11, 12, 13, 14, 15, 16, 17, 18, 19, 20, 21, 22, 23, 24, 25, 26, 27, 28, 29, 30, 31, 32, 33, 34, 35, 36]\n"
     ]
    }
   ],
   "source": [
    "# 02 Diff 2 <간단한 3,6,9 게임>\n",
    "# 1. 숫자를 입력받으면 1부터 그 숫자까지 리스트를 만든다.\n",
    "# 2. 그 리스트를 str으로 변환 후 3,6,9가 들어간 값을 찾을경우\n",
    "# 3. if로 경우를 나눠준다. 만약 1개일 경우 '-', 2개일 경우 '--' , 3개는 '---'로\n",
    "N = input()\n",
    "tsn = ['3', '6', '9', '13', '16']\n",
    "x = [x for x in range(1, int(N)+1)]\n",
    "x = list(map(str, x))\n",
    "for num in x:\n",
    "    if x.count('3') + x.count('6') + x.count('9') == 1:\n",
    "        num = '-'\n",
    "    elif x.count('3') + x.count('6') + x.count('9') == 2:\n",
    "        num = '--'\n",
    "    elif x.count('3') + x.count('6') + x.count('9') == 3:\n",
    "        num = '---'\n",
    "print(x.count(3))\n",
    "print(x)"
   ]
  },
  {
   "cell_type": "code",
   "execution_count": 12,
   "metadata": {},
   "outputs": [
    {
     "name": "stdout",
     "output_type": "stream",
     "text": [
      "1\n",
      "KOREAKOREAKOREA\n",
      "['K', 'O', 'R', 'E', 'A', 'K', 'O', 'R', 'E', 'A', 'K', 'O', 'R', 'E', 'A']\n"
     ]
    }
   ],
   "source": [
    "# Diff 2 <패턴 마디의 길이>\n",
    "# 1. 입력받은 30의 문자열을 하나씩 리스트에 넣는다.\n",
    "# 2. KOREA의 경우 K,O,R,E,A 가 들어가고 또 K가 들어갈 것이다.\n",
    "# 3. 문자열에서 뽑는 char가 KOREA 배열의 K가 중복되는 순간\n",
    "# 4. 그 다음 배열마저 O로 같다면 KOREAKOREA에서 절반인 5가 문자열 길이다.\n",
    "# 5. SAMSUNG 에서 SAM S 가 또 나왔을텐데 다음 U가 다르기때문에 패스\n",
    "# 6. SAMSUNG S가 같고 그다음 A도 같기때문에 SAMSUNGSAMSUNG의 절반인 7이 길이\n",
    "\n",
    "test_cases = input()\n",
    "\n",
    "for i in range(int(test_cases)): # testcase 개수만큼 반복\n",
    "    result = []\n",
    "    word = input()\n",
    "    for char in word:\n",
    "        result.append(char)\n",
    "    print(result)\n",
    "    for i in result:\n",
    "        "
   ]
  },
  {
   "cell_type": "code",
   "execution_count": null,
   "metadata": {},
   "outputs": [],
   "source": [
    "# Diff 2 <중간 평균값 구하기>\n",
    "\n",
    "test_cases = input()\n",
    "for i in range(int(test_cases)): # testcase 개수만큼 반복\n",
    "    result = []"
   ]
  },
  {
   "cell_type": "code",
   "execution_count": null,
   "metadata": {},
   "outputs": [],
   "source": []
  },
  {
   "cell_type": "code",
   "execution_count": null,
   "metadata": {},
   "outputs": [],
   "source": []
  },
  {
   "cell_type": "code",
   "execution_count": 8,
   "metadata": {},
   "outputs": [
    {
     "name": "stdout",
     "output_type": "stream",
     "text": [
      "[1, 2, 3, 4, 5, 6, 7, 8, 9]\n"
     ]
    }
   ],
   "source": [
    "a = [x for x in range(1, 10)]\n",
    "print(a)"
   ]
  },
  {
   "cell_type": "code",
   "execution_count": null,
   "metadata": {},
   "outputs": [],
   "source": []
  },
  {
   "cell_type": "code",
   "execution_count": 44,
   "metadata": {},
   "outputs": [
    {
     "name": "stdout",
     "output_type": "stream",
     "text": [
      "36\n",
      "1 2 - 4 5 - 7 8 - 10 11 12 - 14 15 - 17 18 - 20 21 22 - 24 25 - 27 28 - - - - -- - - --\n"
     ]
    }
   ],
   "source": [
    "n = int(input())\n",
    "x = [str(x) for x in range(1, n+1)]\n",
    "tsn = ['3', '6', '9']\n",
    "result = []\n",
    "for num in x:\n",
    "    cnt = 0\n",
    "    for each in range(len(num)):\n",
    "        if num[each] in tsn :\n",
    "            cnt += 1\n",
    "    if cnt == 1:\n",
    "        result.append('-')\n",
    "    elif cnt == 2:\n",
    "        result.append('--')\n",
    "    elif cnt == 3:\n",
    "        result.append('---')\n",
    "    else:\n",
    "        result.append(num)\n",
    "#     if num.count('3') or num.count('6') or num.count('9'):\n",
    "#         num = '-'*\n",
    "print(' '.join(result))"
   ]
  },
  {
   "cell_type": "code",
   "execution_count": null,
   "metadata": {},
   "outputs": [],
   "source": [
    "N = input()\n",
    "x = [x for x in range(1, int(N)+1)]\n",
    "x = ' '.join(list(map(str, x)))\n",
    "x= x.replace('3','-')\n",
    "x= x.replace('6','-')\n",
    "x= x.replace('9','-')\n",
    "print(x)"
   ]
  },
  {
   "cell_type": "code",
   "execution_count": 34,
   "metadata": {},
   "outputs": [
    {
     "data": {
      "text/plain": [
       "2"
      ]
     },
     "execution_count": 34,
     "metadata": {},
     "output_type": "execute_result"
    }
   ],
   "source": [
    "2 or 0 or 1\n"
   ]
  },
  {
   "cell_type": "code",
   "execution_count": 30,
   "metadata": {},
   "outputs": [
    {
     "data": {
      "text/plain": [
       "3"
      ]
     },
     "execution_count": 30,
     "metadata": {},
     "output_type": "execute_result"
    }
   ],
   "source": [
    "a = '333'\n",
    "a.count('3')"
   ]
  },
  {
   "cell_type": "code",
   "execution_count": 29,
   "metadata": {},
   "outputs": [
    {
     "data": {
      "text/plain": [
       "1"
      ]
     },
     "execution_count": 29,
     "metadata": {},
     "output_type": "execute_result"
    }
   ],
   "source": [
    "a = '1'\n",
    "len(a)"
   ]
  },
  {
   "cell_type": "code",
   "execution_count": 1,
   "metadata": {},
   "outputs": [
    {
     "name": "stdout",
     "output_type": "stream",
     "text": [
      "36\n",
      "['1', '2', '3', '4', '5', '6', '7', '8', '9', '10', '11', '12', '13', '14', '15', '16', '17', '18', '19', '20', '21', '22', '23', '24', '25', '26', '27', '28', '29', '30', '31', '32', '33', '34', '35', '36']\n"
     ]
    }
   ],
   "source": [
    "N = input()\n",
    "x = [x for x in range(1, int(N)+1)]\n",
    "x = list(map(str, x))\n",
    "print(x)"
   ]
  },
  {
   "cell_type": "code",
   "execution_count": 12,
   "metadata": {},
   "outputs": [
    {
     "data": {
      "text/plain": [
       "range(0, 35)"
      ]
     },
     "execution_count": 12,
     "metadata": {},
     "output_type": "execute_result"
    }
   ],
   "source": [
    "range(0, 35)"
   ]
  },
  {
   "cell_type": "code",
   "execution_count": 16,
   "metadata": {},
   "outputs": [
    {
     "name": "stdout",
     "output_type": "stream",
     "text": [
      "<class 'int'>\n"
     ]
    }
   ],
   "source": [
    "x = [x for x in range(1, 36)]\n",
    "print(type(x[0]))"
   ]
  },
  {
   "cell_type": "code",
   "execution_count": 1,
   "metadata": {},
   "outputs": [
    {
     "data": {
      "text/plain": [
       "True"
      ]
     },
     "execution_count": 1,
     "metadata": {},
     "output_type": "execute_result"
    }
   ],
   "source": [
    "a = 0.1 * 3\n",
    "b = 0.3\n",
    "abs(a-b) < 1e-5"
   ]
  }
 ],
 "metadata": {
  "kernelspec": {
   "display_name": "Python 3",
   "language": "python",
   "name": "python3"
  },
  "language_info": {
   "codemirror_mode": {
    "name": "ipython",
    "version": 3
   },
   "file_extension": ".py",
   "mimetype": "text/x-python",
   "name": "python",
   "nbconvert_exporter": "python",
   "pygments_lexer": "ipython3",
   "version": "3.6.7"
  }
 },
 "nbformat": 4,
 "nbformat_minor": 2
}
