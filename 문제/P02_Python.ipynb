{
 "cells": [
  {
   "cell_type": "markdown",
   "metadata": {},
   "source": [
    "# 가상화폐 시세 판단하기"
   ]
  },
  {
   "cell_type": "markdown",
   "metadata": {},
   "source": [
    "> 최고가와 최저가의 차이를 변동폭으로 정의할 때 (시가 + 변동폭)이 최고가 보다 높을 경우 \"상승장\", 그렇지 않은 경우 \"하락장\" 문자열을 출력하라.\n",
    "\n",
    "|Key Name        |     Description|\n",
    "|---|---|\n",
    "|opeing_price    |최근 24시간 내 시작 거래금액|\n",
    "|closing_price   |최근 24시간 내 마지막 거래금액|\n",
    "|min_price       |최근 24시간 내 최저 거래금액|\n",
    "|max_price       |최근 24시간 내 최고 거래금액|"
   ]
  },
  {
   "cell_type": "code",
   "execution_count": 41,
   "metadata": {},
   "outputs": [
    {
     "name": "stdout",
     "output_type": "stream",
     "text": [
      "{'opening_price': '4265000', 'closing_price': '4337000', 'min_price': '4240000', 'max_price': '4360000', 'average_price': '4299633.0136', 'units_traded': '3858.48640156', 'volume_1day': '3858.48640156', 'volume_7day': '31458.04436259', 'buy_price': '4334000', 'sell_price': '4337000', '24H_fluctate': '72000', '24H_fluctate_rate': '1.68', 'date': '1546476160522'}\n"
     ]
    }
   ],
   "source": [
    "import requests\n",
    "btc = requests.get(\"https://api.bithumb.com/public/ticker/btc\").json()['data']\n",
    "print(btc)"
   ]
  },
  {
   "cell_type": "code",
   "execution_count": 91,
   "metadata": {
    "scrolled": true
   },
   "outputs": [
    {
     "name": "stdout",
     "output_type": "stream",
     "text": [
      "상승장\n"
     ]
    }
   ],
   "source": [
    "# 아래에 코드를 작성하세요.\n",
    "if  int(btc['opening_price']) + int(btc['max_price']) - int(btc['min_price']) > int(btc['max_price']):\n",
    "    print(\"상승장\")\n",
    "else:\n",
    "    print(\"하락장\")"
   ]
  },
  {
   "cell_type": "code",
   "execution_count": 43,
   "metadata": {},
   "outputs": [
    {
     "name": "stdout",
     "output_type": "stream",
     "text": [
      "4265000\n"
     ]
    }
   ],
   "source": [
    "print(btc['opening_price'])"
   ]
  },
  {
   "cell_type": "markdown",
   "metadata": {},
   "source": [
    "## 모든 가상화폐 시세 판단하기\n",
    "\n",
    "> currrency dictionary에 담겨있는 모든 가상화폐 거래내역을 바탕으로 출력하라.\n",
    ">\n",
    "> 예외 처리에 유의하세요.\n",
    "--- \n",
    "```\n",
    "예시 출력)\n",
    "BTC 상승장\n",
    "ETH 상승장\n",
    "DASH 상승장\n",
    "LTC 하락장\n",
    "ETC 하락장\n",
    "XRP 상승장\n",
    "BCH 상승장\n",
    "...\n",
    "```\n"
   ]
  },
  {
   "cell_type": "code",
   "execution_count": 106,
   "metadata": {},
   "outputs": [
    {
     "name": "stdout",
     "output_type": "stream",
     "text": [
      "{'BTC': {'opening_price': '4274000', 'closing_price': '4303000', 'min_price': '4240000', 'max_price': '4379000', 'average_price': '4304372.8495', 'units_traded': '15520.76134788', 'volume_1day': '15520.76134788', 'volume_7day': '42925.48471712', 'buy_price': '4300000', 'sell_price': '4303000', '24H_fluctate': '29000', '24H_fluctate_rate': '0.67'}, 'ETH': {'opening_price': '157000', 'closing_price': '168600', 'min_price': '156100', 'max_price': '174000', 'average_price': '166955.5233', 'units_traded': '502362.93445727', 'volume_1day': '502362.93445727', 'volume_7day': '1537108.579978716592399236', 'buy_price': '168600', 'sell_price': '168700', '24H_fluctate': '11600', '24H_fluctate_rate': '7.38'}, 'DASH': {'opening_price': '90050', 'closing_price': '93800', 'min_price': '88000', 'max_price': '94800', 'average_price': '92118.6912', 'units_traded': '5229010.33648798', 'volume_1day': '5229010.33648798', 'volume_7day': '33217960.5259873', 'buy_price': '93700', 'sell_price': '93800', '24H_fluctate': '3750', '24H_fluctate_rate': '4.16'}, 'LTC': {'opening_price': '35590', 'closing_price': '36330', 'min_price': '35230', 'max_price': '37330', 'average_price': '36313.28', 'units_traded': '73938.73438792', 'volume_1day': '73938.73438792', 'volume_7day': '179151.18232248', 'buy_price': '36370', 'sell_price': '36480', '24H_fluctate': '740', '24H_fluctate_rate': '2.07'}, 'ETC': {'opening_price': '5860', 'closing_price': '5925', 'min_price': '5785', 'max_price': '6040', 'average_price': '5944.3854', 'units_traded': '180724.11525993', 'volume_1day': '180724.11525993', 'volume_7day': '2139115.1719428430582364', 'buy_price': '5915', 'sell_price': '5930', '24H_fluctate': '65', '24H_fluctate_rate': '1.10'}, 'XRP': {'opening_price': '404', 'closing_price': '409', 'min_price': '399', 'max_price': '420', 'average_price': '409.8555', 'units_traded': '71795589.21465602', 'volume_1day': '71795589.21465602', 'volume_7day': '511363526.89705843', 'buy_price': '408', 'sell_price': '409', '24H_fluctate': '5', '24H_fluctate_rate': '1.23'}, 'BCH': {'opening_price': '182200', 'closing_price': '187300', 'min_price': '179600', 'max_price': '195900', 'average_price': '185408.9745', 'units_traded': '74435.21664222', 'volume_1day': '74435.21664222', 'volume_7day': '611512.27961039', 'buy_price': '187300', 'sell_price': '187400', '24H_fluctate': '5100', '24H_fluctate_rate': '2.79'}, 'XMR': {'opening_price': '53650', 'closing_price': '56150', 'min_price': '53350', 'max_price': '59600', 'average_price': '57531.1008', 'units_traded': '11122253.56800311', 'volume_1day': '11122253.56800311', 'volume_7day': '55484370.942130905347', 'buy_price': '56150', 'sell_price': '56500', '24H_fluctate': '2500', '24H_fluctate_rate': '4.65'}, 'ZEC': {'opening_price': '65350', 'closing_price': '66750', 'min_price': '64400', 'max_price': '69150', 'average_price': '66613.3028', 'units_traded': '1114180.14851206', 'volume_1day': '1114180.14851206', 'volume_7day': '42549541.42074041', 'buy_price': '66700', 'sell_price': '66900', '24H_fluctate': '1400', '24H_fluctate_rate': '2.14'}, 'QTUM': {'opening_price': '2508', 'closing_price': '2540', 'min_price': '2434', 'max_price': '2599', 'average_price': '2524.5787', 'units_traded': '351511.97203423', 'volume_1day': '351511.97203423', 'volume_7day': '9823279.58832974', 'buy_price': '2535', 'sell_price': '2540', '24H_fluctate': '32', '24H_fluctate_rate': '1.27'}, 'BTG': {'opening_price': '14410', 'closing_price': '14740', 'min_price': '14300', 'max_price': '15100', 'average_price': '14776.8018', 'units_traded': '22465647.93616202', 'volume_1day': '22465647.93616202', 'volume_7day': '94603825.59821057', 'buy_price': '14730', 'sell_price': '14740', '24H_fluctate': '330', '24H_fluctate_rate': '2.29'}, 'EOS': {'opening_price': '2946', 'closing_price': '3105', 'min_price': '2926', 'max_price': '3204', 'average_price': '3066.7958', 'units_traded': '3618596.76272209', 'volume_1day': '3618596.76272209', 'volume_7day': '24690425.21317157', 'buy_price': '3105', 'sell_price': '3108', '24H_fluctate': '159', '24H_fluctate_rate': '5.39'}, 'ICX': {'opening_price': '272', 'closing_price': '289', 'min_price': '269', 'max_price': '293', 'average_price': '279.7261', 'units_traded': '807030.24788323', 'volume_1day': '807030.24788323', 'volume_7day': '3490744.734393256280004322', 'buy_price': '286', 'sell_price': '289', '24H_fluctate': '17', '24H_fluctate_rate': '6.25'}, 'VET': {'opening_price': '7.38', 'closing_price': '7.22', 'min_price': '7', 'max_price': '7.4', 'average_price': '7.2193', 'units_traded': '9031342.79841113', 'volume_1day': '9031342.79841113', 'volume_7day': '74026810.537740740681425795', 'buy_price': '7.22', 'sell_price': '7.29', '24H_fluctate': '-0.16', '24H_fluctate_rate': '-2.16'}, 'TRX': {'opening_price': '21.6', 'closing_price': '21.9', 'min_price': '21.3', 'max_price': '22.5', 'average_price': '21.894', 'units_traded': '100560782.24690951', 'volume_1day': '100560782.24690951', 'volume_7day': '885271681.01168403', 'buy_price': '21.8', 'sell_price': '21.9', '24H_fluctate': '0.3', '24H_fluctate_rate': '1.38'}, 'ELF': {'opening_price': '128', 'closing_price': '128', 'min_price': '123', 'max_price': '132', 'average_price': '127.7951', 'units_traded': '2014364.84023338', 'volume_1day': '2014364.84023338', 'volume_7day': '16149713.423410584399320282', 'buy_price': '127', 'sell_price': '128', '24H_fluctate': '0', '24H_fluctate_rate': '0.00'}, 'MITH': {'opening_price': '69.5', 'closing_price': '70.8', 'min_price': '68.1', 'max_price': '72.5', 'average_price': '70.3584', 'units_traded': '14478578.35435749', 'volume_1day': '14478578.35435749', 'volume_7day': '114890659.431586316773377865', 'buy_price': '70.8', 'sell_price': '70.9', '24H_fluctate': '1.3', '24H_fluctate_rate': '1.87'}, 'MCO': {'opening_price': '2480', 'closing_price': '2574', 'min_price': '2409', 'max_price': '2700', 'average_price': '2558.6086', 'units_traded': '830291.89545597', 'volume_1day': '830291.89545597', 'volume_7day': '1170270.51649893', 'buy_price': '2574', 'sell_price': '2684', '24H_fluctate': '94', '24H_fluctate_rate': '3.79'}, 'OMG': {'opening_price': '1635', 'closing_price': '1644', 'min_price': '1588', 'max_price': '1705', 'average_price': '1645.0233', 'units_traded': '398237.02844218', 'volume_1day': '398237.02844218', 'volume_7day': '9968796.455759674500710625', 'buy_price': '1643', 'sell_price': '1664', '24H_fluctate': '9', '24H_fluctate_rate': '0.55'}, 'KNC': {'opening_price': '181', 'closing_price': '184', 'min_price': '178', 'max_price': '188', 'average_price': '182.0179', 'units_traded': '1153646.61523944', 'volume_1day': '1153646.61523944', 'volume_7day': '7448617.086668684118408265', 'buy_price': '182', 'sell_price': '184', '24H_fluctate': '3', '24H_fluctate_rate': '1.65'}, 'GNT': {'opening_price': '75', 'closing_price': '77', 'min_price': '74.4', 'max_price': '79', 'average_price': '77.1136', 'units_traded': '2574502.09022073', 'volume_1day': '2574502.09022073', 'volume_7day': '37792139.362336476411624425', 'buy_price': '77', 'sell_price': '77.2', '24H_fluctate': '2', '24H_fluctate_rate': '2.66'}, 'ZIL': {'opening_price': '22.8', 'closing_price': '22.4', 'min_price': '22.1', 'max_price': '23.3', 'average_price': '22.8377', 'units_traded': '33944463.20831988', 'volume_1day': '33944463.20831988', 'volume_7day': '470678093.977283560246', 'buy_price': '22.3', 'sell_price': '22.4', '24H_fluctate': '-0.4', '24H_fluctate_rate': '-1.75'}, 'ETHOS': {'opening_price': '1179', 'closing_price': '1125', 'min_price': '1060', 'max_price': '1180', 'average_price': '1108.6713', 'units_traded': '408512.48254252', 'volume_1day': '408512.48254252', 'volume_7day': '7600117.73033925', 'buy_price': '1100', 'sell_price': '1122', '24H_fluctate': '-54', '24H_fluctate_rate': '-4.58'}, 'PAY': {'opening_price': '1862', 'closing_price': '1821', 'min_price': '1690', 'max_price': '1891', 'average_price': '1800.653', 'units_traded': '551769.22135239', 'volume_1day': '551769.22135239', 'volume_7day': '12056381.017385369608096414', 'buy_price': '1796', 'sell_price': '1819', '24H_fluctate': '-41', '24H_fluctate_rate': '-2.20'}, 'WAX': {'opening_price': '112', 'closing_price': '109', 'min_price': '103', 'max_price': '112', 'average_price': '107.4825', 'units_traded': '1210369.7999347', 'volume_1day': '1210369.7999347', 'volume_7day': '21366728.31939986', 'buy_price': '107', 'sell_price': '108', '24H_fluctate': '-3', '24H_fluctate_rate': '-2.67'}, 'POWR': {'opening_price': '565', 'closing_price': '544', 'min_price': '500', 'max_price': '569', 'average_price': '538.8109', 'units_traded': '820048.78568292', 'volume_1day': '820048.78568292', 'volume_7day': '8207993.24104863', 'buy_price': '538', 'sell_price': '544', '24H_fluctate': '-21', '24H_fluctate_rate': '-3.71'}, 'LRC': {'opening_price': '595', 'closing_price': '589', 'min_price': '568', 'max_price': '610', 'average_price': '591.0447', 'units_traded': '379942.6131319', 'volume_1day': '379942.6131319', 'volume_7day': '3922255.518122897867907104', 'buy_price': '588', 'sell_price': '595', '24H_fluctate': '-6', '24H_fluctate_rate': '-1.00'}, 'GTO': {'opening_price': '73.9', 'closing_price': '73', 'min_price': '70.5', 'max_price': '75', 'average_price': '72.7444', 'units_traded': '2179883.42664819', 'volume_1day': '2179883.42664819', 'volume_7day': '25646512.94087941', 'buy_price': '72.6', 'sell_price': '73.6', '24H_fluctate': '-0.9', '24H_fluctate_rate': '-1.21'}, 'STEEM': {'opening_price': '1857', 'closing_price': '1867', 'min_price': '1800', 'max_price': '1919', 'average_price': '1853.3555', 'units_traded': '121532.56441673', 'volume_1day': '121532.56441673', 'volume_7day': '1685908.9655389', 'buy_price': '1867', 'sell_price': '1875', '24H_fluctate': '10', '24H_fluctate_rate': '0.53'}, 'STRAT': {'opening_price': '2935', 'closing_price': '2872', 'min_price': '2697', 'max_price': '2949', 'average_price': '2838.1744', 'units_traded': '83647.37285967', 'volume_1day': '83647.37285967', 'volume_7day': '718702.18917923', 'buy_price': '2872', 'sell_price': '2890', '24H_fluctate': '-63', '24H_fluctate_rate': '-2.14'}, 'ZRX': {'opening_price': '350', 'closing_price': '359', 'min_price': '348', 'max_price': '367', 'average_price': '359.3665', 'units_traded': '789321.53299219', 'volume_1day': '789321.53299219', 'volume_7day': '7486340.784323736109245943', 'buy_price': '359', 'sell_price': '361', '24H_fluctate': '9', '24H_fluctate_rate': '2.57'}, 'REP': {'opening_price': '99200', 'closing_price': '99500', 'min_price': '95650', 'max_price': '101000', 'average_price': '98078.4536', 'units_traded': '5981.8357897', 'volume_1day': '5981.8357897', 'volume_7day': '99387.35568534583125822', 'buy_price': '99050', 'sell_price': '99400', '24H_fluctate': '300', '24H_fluctate_rate': '0.30'}, 'AE': {'opening_price': '1685', 'closing_price': '1638', 'min_price': '1605', 'max_price': '1720', 'average_price': '1656.9534', 'units_traded': '126720.06811104', 'volume_1day': '126720.06811104', 'volume_7day': '2303167.848180122110549243', 'buy_price': '1638', 'sell_price': '1654', '24H_fluctate': '-47', '24H_fluctate_rate': '-2.78'}, 'XEM': {'opening_price': '73.9', 'closing_price': '73.2', 'min_price': '71.2', 'max_price': '87.8', 'average_price': '76.2277', 'units_traded': '8939152.55517457', 'volume_1day': '8939152.55517457', 'volume_7day': '20696403.78246212', 'buy_price': '73.2', 'sell_price': '73.3', '24H_fluctate': '-0.7', '24H_fluctate_rate': '-0.94'}, 'SNT': {'opening_price': '120', 'closing_price': '118', 'min_price': '108', 'max_price': '120', 'average_price': '116.1022', 'units_traded': '2844716.7854879', 'volume_1day': '2844716.7854879', 'volume_7day': '25741216.378483878394962219', 'buy_price': '117', 'sell_price': '118', '24H_fluctate': '-2', '24H_fluctate_rate': '-1.66'}, 'ADA': {'opening_price': '78.5', 'closing_price': '78', 'min_price': '75.9', 'max_price': '79.5', 'average_price': '77.9469', 'units_traded': '2768128.64706129', 'volume_1day': '2768128.64706129', 'volume_7day': '40115584.8719422', 'buy_price': '77.5', 'sell_price': '78.2', '24H_fluctate': '-0.5', '24H_fluctate_rate': '-0.63'}, 'PPT': {'opening_price': '1655', 'closing_price': '1691', 'min_price': '1636', 'max_price': '1707', 'average_price': '1680.7409', 'units_traded': '36997.68168692', 'volume_1day': '36997.68168692', 'volume_7day': '767472.76514952', 'buy_price': '1657', 'sell_price': '1689', '24H_fluctate': '36', '24H_fluctate_rate': '2.17'}, 'CTXC': {'opening_price': '115', 'closing_price': '117', 'min_price': '112', 'max_price': '123', 'average_price': '117.3947', 'units_traded': '1681628.25394525', 'volume_1day': '1681628.25394525', 'volume_7day': '12165035.32774130910887678', 'buy_price': '118', 'sell_price': '119', '24H_fluctate': '2', '24H_fluctate_rate': '1.73'}, 'CMT': {'opening_price': '35', 'closing_price': '36.3', 'min_price': '34.2', 'max_price': '38.1', 'average_price': '36.3532', 'units_traded': '13832607.12219228', 'volume_1day': '13832607.12219228', 'volume_7day': '39002712.031890982830163088', 'buy_price': '35.6', 'sell_price': '36', '24H_fluctate': '1.3', '24H_fluctate_rate': '3.71'}, 'THETA': {'opening_price': '54.6', 'closing_price': '56.9', 'min_price': '52.8', 'max_price': '60', 'average_price': '55.4962', 'units_traded': '12316105.98282468', 'volume_1day': '12316105.98282468', 'volume_7day': '93891898.261783883831628033', 'buy_price': '56.6', 'sell_price': '57', '24H_fluctate': '2.3', '24H_fluctate_rate': '4.21'}, 'WTC': {'opening_price': '1221', 'closing_price': '1255', 'min_price': '1220', 'max_price': '1285', 'average_price': '1253.3604', 'units_traded': '90367.9040831', 'volume_1day': '90367.9040831', 'volume_7day': '2378938.949762167178244233', 'buy_price': '1250', 'sell_price': '1257', '24H_fluctate': '34', '24H_fluctate_rate': '2.78'}, 'ITC': {'opening_price': '138', 'closing_price': '141', 'min_price': '133', 'max_price': '142', 'average_price': '137.6742', 'units_traded': '2173204.93071271', 'volume_1day': '2173204.93071271', 'volume_7day': '30764899.812353786321762469', 'buy_price': '138', 'sell_price': '140', '24H_fluctate': '3', '24H_fluctate_rate': '2.17'}, 'TRUE': {'opening_price': '291', 'closing_price': '293', 'min_price': '280', 'max_price': '306', 'average_price': '291.3972', 'units_traded': '511872.28376121', 'volume_1day': '511872.28376121', 'volume_7day': '6675605.533824343175807958', 'buy_price': '293', 'sell_price': '295', '24H_fluctate': '2', '24H_fluctate_rate': '0.68'}, 'ABT': {'opening_price': '107', 'closing_price': '100', 'min_price': '92.8', 'max_price': '128', 'average_price': '107.9115', 'units_traded': '31822060.71375546', 'volume_1day': '31822060.71375546', 'volume_7day': '38773211.559801457552700165', 'buy_price': '100', 'sell_price': '102', '24H_fluctate': '-7', '24H_fluctate_rate': '-6.54'}, 'RNT': {'opening_price': '93.9', 'closing_price': '137', 'min_price': '93', 'max_price': '164', 'average_price': '131.1271', 'units_traded': '69375467.03045081', 'volume_1day': '69375467.03045081', 'volume_7day': '105315009.167497076878573968', 'buy_price': '136', 'sell_price': '138', '24H_fluctate': '43.1', '24H_fluctate_rate': '45.89'}, 'PLY': {'opening_price': '39', 'closing_price': '38.1', 'min_price': '36.9', 'max_price': '41.3', 'average_price': '38.9965', 'units_traded': '29678393.12978629', 'volume_1day': '29678393.12978629', 'volume_7day': '104173500.143498582', 'buy_price': '38', 'sell_price': '38.2', '24H_fluctate': '-0.9', '24H_fluctate_rate': '-2.30'}, 'WAVES': {'opening_price': '3510', 'closing_price': '3463', 'min_price': '3384', 'max_price': '3559', 'average_price': '3462.1609', 'units_traded': '1109091.51497095', 'volume_1day': '1109091.51497095', 'volume_7day': '2912627.53793423', 'buy_price': '3445', 'sell_price': '3464', '24H_fluctate': '-47', '24H_fluctate_rate': '-1.33'}, 'LINK': {'opening_price': '330', 'closing_price': '348', 'min_price': '330', 'max_price': '355', 'average_price': '342.9096', 'units_traded': '347001.53035392', 'volume_1day': '347001.53035392', 'volume_7day': '4094041.273704364007396974', 'buy_price': '350', 'sell_price': '354', '24H_fluctate': '18', '24H_fluctate_rate': '5.45'}, 'ENJ': {'opening_price': '46', 'closing_price': '44.5', 'min_price': '43.7', 'max_price': '47.9', 'average_price': '45.0657', 'units_traded': '3729839.16985157', 'volume_1day': '3729839.16985157', 'volume_7day': '47777266.523833731616801872', 'buy_price': '44.5', 'sell_price': '44.9', '24H_fluctate': '-1.5', '24H_fluctate_rate': '-3.26'}, 'PST': {'opening_price': '109', 'closing_price': '112', 'min_price': '105', 'max_price': '123', 'average_price': '114.9076', 'units_traded': '3445810.98453843', 'volume_1day': '3445810.98453843', 'volume_7day': '11247679.760952565290562598', 'buy_price': '112', 'sell_price': '113', '24H_fluctate': '3', '24H_fluctate_rate': '2.75'}, 'SALT': {'opening_price': '271', 'closing_price': '273', 'min_price': '265', 'max_price': '280', 'average_price': '271.3601', 'units_traded': '951356.24692774', 'volume_1day': '951356.24692774', 'volume_7day': '12785278.89884798', 'buy_price': '273', 'sell_price': '274', '24H_fluctate': '2', '24H_fluctate_rate': '0.73'}, 'RDN': {'opening_price': '262', 'closing_price': '333', 'min_price': '260', 'max_price': '350', 'average_price': '311.8627', 'units_traded': '5144551.62571368', 'volume_1day': '5144551.62571368', 'volume_7day': '19531177.104872891056982785', 'buy_price': '329', 'sell_price': '333', '24H_fluctate': '71', '24H_fluctate_rate': '27.09'}, 'LOOM': {'opening_price': '51.3', 'closing_price': '57.7', 'min_price': '50.2', 'max_price': '60', 'average_price': '54.3455', 'units_traded': '8395512.06124912', 'volume_1day': '8395512.06124912', 'volume_7day': '23176390.656437077687268191', 'buy_price': '56.6', 'sell_price': '57.7', '24H_fluctate': '6.4', '24H_fluctate_rate': '12.47'}, 'BHPC': {'opening_price': '927', 'closing_price': '903', 'min_price': '895', 'max_price': '930', 'average_price': '911.2832', 'units_traded': '671374.06650982', 'volume_1day': '671374.06650982', 'volume_7day': '9675513.71241001265796435', 'buy_price': '903', 'sell_price': '909', '24H_fluctate': '-24', '24H_fluctate_rate': '-2.58'}, 'PIVX': {'opening_price': '957', 'closing_price': '967', 'min_price': '929', 'max_price': '990', 'average_price': '960.7583', 'units_traded': '374035.57099726', 'volume_1day': '374035.57099726', 'volume_7day': '10810523.40037353', 'buy_price': '963', 'sell_price': '977', '24H_fluctate': '10', '24H_fluctate_rate': '1.04'}, 'INS': {'opening_price': '311', 'closing_price': '347', 'min_price': '307', 'max_price': '369', 'average_price': '328.6352', 'units_traded': '1334526.14026711', 'volume_1day': '1334526.14026711', 'volume_7day': '8315024.6851142783', 'buy_price': '347', 'sell_price': '350', '24H_fluctate': '36', '24H_fluctate_rate': '11.57'}, 'BCD': {'opening_price': '1023', 'closing_price': '1026', 'min_price': '1002', 'max_price': '1036', 'average_price': '1020.49', 'units_traded': '219800.73657579', 'volume_1day': '219800.73657579', 'volume_7day': '2456596.79064463', 'buy_price': '1026', 'sell_price': '1032', '24H_fluctate': '3', '24H_fluctate_rate': '0.29'}, 'BZNT': {'opening_price': '27.1', 'closing_price': '27.5', 'min_price': '25.4', 'max_price': '31.9', 'average_price': '29.159', 'units_traded': '84324385.04571247', 'volume_1day': '84324385.04571247', 'volume_7day': '152212855.45093611601970817', 'buy_price': '27.5', 'sell_price': '27.8', '24H_fluctate': '0.4', '24H_fluctate_rate': '1.47'}, 'XLM': {'opening_price': '128', 'closing_price': '129', 'min_price': '126', 'max_price': '133', 'average_price': '129.158', 'units_traded': '6599768.05687618', 'volume_1day': '6599768.05687618', 'volume_7day': '53041085.14009602', 'buy_price': '128', 'sell_price': '129', '24H_fluctate': '1', '24H_fluctate_rate': '0.78'}, 'OCN': {'opening_price': '4.02', 'closing_price': '4.01', 'min_price': '3.87', 'max_price': '4.1', 'average_price': '3.9759', 'units_traded': '97795102.30140196', 'volume_1day': '97795102.30140196', 'volume_7day': '1977140552.699911406564195858', 'buy_price': '3.99', 'sell_price': '4.02', '24H_fluctate': '-0', '24H_fluctate_rate': '-0.24'}, 'BSV': {'opening_price': '101800', 'closing_price': '102400', 'min_price': '100000', 'max_price': '106900', 'average_price': '102751.3268', 'units_traded': '38661.78638358', 'volume_1day': '38661.78638358', 'volume_7day': '290941.05829098', 'buy_price': '102300', 'sell_price': '102400', '24H_fluctate': '600', '24H_fluctate_rate': '0.58'}, 'TMTG': {'opening_price': '8.5', 'closing_price': '8.4', 'min_price': '8.3', 'max_price': '8.55', 'average_price': '8.4006', 'units_traded': '214690001.438875', 'volume_1day': '214690001.438875', 'volume_7day': '1407652388.920578290280778471', 'buy_price': '8.39', 'sell_price': '8.4', '24H_fluctate': '-0.1', '24H_fluctate_rate': '-1.17'}, 'BAT': {'opening_price': '148', 'closing_price': '148', 'min_price': '145', 'max_price': '154', 'average_price': '148.3368', 'units_traded': '951576.34158397', 'volume_1day': '951576.34158397', 'volume_7day': '6635694.536392867704413952', 'buy_price': '148', 'sell_price': '150', '24H_fluctate': '0', '24H_fluctate_rate': '0.00'}, 'WET': {'opening_price': '14.1', 'closing_price': '14.1', 'min_price': '13.6', 'max_price': '14.6', 'average_price': '14.0714', 'units_traded': '38974017.86870639', 'volume_1day': '38974017.86870639', 'volume_7day': '218954212.761943511055148264', 'buy_price': '14.1', 'sell_price': '14.2', '24H_fluctate': '0', '24H_fluctate_rate': '0.00'}, 'XVG': {'opening_price': '7.83', 'closing_price': '7.9', 'min_price': '7.78', 'max_price': '8.09', 'average_price': '7.9178', 'units_traded': '7092506.03957652', 'volume_1day': '7092506.03957652', 'volume_7day': '52744240.34126017', 'buy_price': '7.9', 'sell_price': '8.01', '24H_fluctate': '0.07', '24H_fluctate_rate': '0.89'}, 'IOST': {'opening_price': '6.12', 'closing_price': '6.47', 'min_price': '6.05', 'max_price': '6.63', 'average_price': '6.3545', 'units_traded': '462132691.31839862', 'volume_1day': '462132691.31839862', 'volume_7day': '1067692386.13050102455517224', 'buy_price': '6.4', 'sell_price': '6.47', '24H_fluctate': '0.35', '24H_fluctate_rate': '5.71'}, 'POLY': {'opening_price': '160', 'closing_price': '159', 'min_price': '155', 'max_price': '165', 'average_price': '159.6401', 'units_traded': '1062288.26329293', 'volume_1day': '1062288.26329293', 'volume_7day': '14988979.670819917188685691', 'buy_price': '159', 'sell_price': '161', '24H_fluctate': '-1', '24H_fluctate_rate': '-0.62'}, 'HC': {'opening_price': '1438', 'closing_price': '1430', 'min_price': '1390', 'max_price': '1470', 'average_price': '1423.5878', 'units_traded': '68490.18484885', 'volume_1day': '68490.18484885', 'volume_7day': '1090896.51963375', 'buy_price': '1415', 'sell_price': '1429', '24H_fluctate': '-8', '24H_fluctate_rate': '-0.55'}, 'MEETONE': [], 'ADD': [], 'HORUS': [], 'CHL': [], 'EOSDAC': [], 'BLACK': [], 'ROM': {'opening_price': '0.13', 'closing_price': '0.13', 'min_price': '0.12', 'max_price': '0.14', 'average_price': '0.1284', 'units_traded': '21372253912.71129945', 'volume_1day': '21372253912.71129945', 'volume_7day': '174120022151.1421739679954689', 'buy_price': '0.12', 'sell_price': '0.13', '24H_fluctate': '0', '24H_fluctate_rate': '0.00'}, 'AMO': {'opening_price': '2', 'closing_price': '1.76', 'min_price': '1.66', 'max_price': '2.8', 'average_price': '1.7955', 'units_traded': '23362163228.8411279', 'volume_1day': '23362163228.8411279', 'volume_7day': '23325304194.622284080288830371', 'buy_price': '1.76', 'sell_price': '1.77', '24H_fluctate': '-0.24', '24H_fluctate_rate': '-12.00'}, 'date': '1546478915441'}\n"
     ]
    }
   ],
   "source": [
    "currency = requests.get(\"https://api.bithumb.com/public/ticker/all\").json()['data']\n",
    "print(currency)"
   ]
  },
  {
   "cell_type": "code",
   "execution_count": 112,
   "metadata": {},
   "outputs": [
    {
     "name": "stdout",
     "output_type": "stream",
     "text": [
      "BTC 상승장\n",
      "ETH 상승장\n",
      "DASH 상승장\n",
      "LTC 상승장\n",
      "ETC 상승장\n",
      "XRP 상승장\n",
      "BCH 상승장\n",
      "XMR 상승장\n",
      "ZEC 상승장\n",
      "QTUM 상승장\n",
      "BTG 상승장\n",
      "EOS 상승장\n",
      "ICX 상승장\n",
      "VET 상승장\n",
      "TRX 상승장\n",
      "ELF 상승장\n",
      "MITH 상승장\n",
      "MCO 상승장\n",
      "OMG 상승장\n",
      "KNC 상승장\n",
      "GNT 상승장\n",
      "ZIL 상승장\n",
      "ETHOS 상승장\n",
      "PAY 상승장\n",
      "WAX 상승장\n",
      "POWR 상승장\n",
      "LRC 상승장\n",
      "GTO 상승장\n",
      "STEEM 상승장\n",
      "STRAT 상승장\n",
      "ZRX 상승장\n",
      "REP 상승장\n",
      "AE 상승장\n",
      "XEM 상승장\n",
      "SNT 상승장\n",
      "ADA 상승장\n",
      "PPT 상승장\n",
      "CTXC 상승장\n",
      "CMT 상승장\n",
      "THETA 상승장\n",
      "WTC 상승장\n",
      "ITC 상승장\n",
      "TRUE 상승장\n",
      "ABT 상승장\n",
      "RNT 상승장\n",
      "PLY 상승장\n",
      "WAVES 상승장\n",
      "LINK 하락장\n",
      "ENJ 상승장\n",
      "PST 상승장\n",
      "SALT 상승장\n",
      "RDN 상승장\n",
      "LOOM 상승장\n",
      "BHPC 상승장\n",
      "PIVX 상승장\n",
      "INS 상승장\n",
      "BCD 상승장\n",
      "BZNT 상승장\n",
      "XLM 상승장\n",
      "OCN 상승장\n",
      "BSV 상승장\n",
      "TMTG 상승장\n",
      "BAT 상승장\n",
      "WET 상승장\n",
      "XVG 상승장\n",
      "IOST 상승장\n",
      "POLY 상승장\n",
      "HC 상승장\n",
      "ROM 상승장\n",
      "AMO 상승장\n"
     ]
    }
   ],
   "source": [
    "# 아래에 코드를 작성하세요.\n",
    "for every in currency:# key, value in currency.items():\n",
    "    if type(currency[every])!=type({}):# type(value)\n",
    "    # if not isinstance(value, dict):\n",
    "\n",
    "        continue\n",
    "    else: # currency[every] = value 로 대체 every = key 로 대체\n",
    "        if  float(currency[every]['opening_price']) + float(currency[every]['max_price']) - float(currency[every]['min_price']) > float(currency[every]['max_price']):\n",
    "            print(f'{every} 상승장')\n",
    "        else:\n",
    "            print(f'{every} 하락장')"
   ]
  },
  {
   "cell_type": "code",
   "execution_count": null,
   "metadata": {},
   "outputs": [],
   "source": [
    "diff = float(value['max_price']) - float(value['min_price'])\n",
    "if diff +"
   ]
  },
  {
   "cell_type": "code",
   "execution_count": 66,
   "metadata": {},
   "outputs": [
    {
     "name": "stdout",
     "output_type": "stream",
     "text": [
      "{'opening_price': '4275000', 'closing_price': '4330000', 'min_price': '4240000', 'max_price': '4360000', 'average_price': '4299937.0932', 'units_traded': '3859.95722818', 'volume_1day': '3859.95722818', 'volume_7day': '31458.04436259', 'buy_price': '4330000', 'sell_price': '4334000', '24H_fluctate': '55000', '24H_fluctate_rate': '1.28'}\n"
     ]
    }
   ],
   "source": [
    "print(currency['BTC'])"
   ]
  },
  {
   "cell_type": "markdown",
   "metadata": {},
   "source": [
    "# 모음 제거하기\n",
    "\n",
    "> 다음 문장의 모음을 제거하여 출력하세요.\n",
    "---\n",
    "```\n",
    "예시 입력)\n",
    "\"Life is too short, you need python\"\n",
    "```\n",
    "\n",
    "```\n",
    "예시 출력)\n",
    "Lf s t shrt, y nd pythn\n",
    "```"
   ]
  },
  {
   "cell_type": "code",
   "execution_count": 125,
   "metadata": {},
   "outputs": [
    {
     "name": "stdout",
     "output_type": "stream",
     "text": [
      "bb\n"
     ]
    }
   ],
   "source": [
    "a = 'b'+'b'\n",
    "print(a)"
   ]
  },
  {
   "cell_type": "code",
   "execution_count": 154,
   "metadata": {},
   "outputs": [
    {
     "name": "stdout",
     "output_type": "stream",
     "text": [
      "Life is too short, you need python\n",
      "Lf s t shrt, y nd pythn\n"
     ]
    }
   ],
   "source": [
    "a = input()\n",
    "# 아래에 코드를 작성하세요.\n",
    "vowel = ['a', 'e', 'i', 'o', 'u']\n",
    "result = ''\n",
    "for char in a:\n",
    "    if char not in vowel:\n",
    "        result += char\n",
    "# else:\n",
    "#     print()\n",
    "print(result)\n",
    "        \n",
    "        "
   ]
  },
  {
   "cell_type": "code",
   "execution_count": 133,
   "metadata": {},
   "outputs": [
    {
     "name": "stdout",
     "output_type": "stream",
     "text": [
      "S\n"
     ]
    }
   ],
   "source": [
    "print(a[4])"
   ]
  },
  {
   "cell_type": "markdown",
   "metadata": {},
   "source": [
    "# 영어 이름 출력하기 \n",
    "\n",
    "> 영어 이름은 가운데 이름을 가지고 있는 경우가 있습니다.\n",
    ">\n",
    "> 가운데 이름은 축약해서 나타내는 함수를 작성해보세요.\n",
    "\n",
    "---\n",
    "```\n",
    "예시 입력)\n",
    "Alice Betty Catherine Davis\n",
    "```\n",
    "```\n",
    "예시 출력)\n",
    "Alice B. C. Davis\n",
    "```"
   ]
  },
  {
   "cell_type": "code",
   "execution_count": 212,
   "metadata": {},
   "outputs": [
    {
     "name": "stdout",
     "output_type": "stream",
     "text": [
      "대전 1반 싸피 퍼스트팀\n",
      "대전 1. 싸. 퍼스트팀\n"
     ]
    }
   ],
   "source": [
    "name = input().split()\n",
    "# 아래에 코드를 작성하세요.\n",
    "for i in range(1, len(name)-1):\n",
    "    name[i] = name[i][0] + '.'\n",
    "        \n",
    "print(\" \".join(name))\n",
    "# split 과 join len range 사용"
   ]
  },
  {
   "cell_type": "code",
   "execution_count": 208,
   "metadata": {},
   "outputs": [
    {
     "name": "stdout",
     "output_type": "stream",
     "text": [
      "['Alice', 'Betty', 'Catherine', 'Davis']\n",
      "Betty\n",
      "Catherine\n"
     ]
    }
   ],
   "source": [
    "#name = 'Alice Betty Catherine Davis'\n",
    "#name_list = name.split()\n",
    "print(name_list)\n",
    "for i in range(1, len(name_list)-1):\n",
    "    print(name_list[i])"
   ]
  },
  {
   "cell_type": "code",
   "execution_count": 172,
   "metadata": {},
   "outputs": [
    {
     "name": "stdout",
     "output_type": "stream",
     "text": [
      "B\n"
     ]
    }
   ],
   "source": [
    "print(name[1][0])"
   ]
  },
  {
   "cell_type": "code",
   "execution_count": null,
   "metadata": {},
   "outputs": [],
   "source": [
    "while len(result) < len(name):\n",
    "    "
   ]
  },
  {
   "cell_type": "code",
   "execution_count": null,
   "metadata": {},
   "outputs": [],
   "source": [
    "name = input().split()\n",
    "# 아래에 코드를 작성하세요.\n",
    "result = []\n",
    "while len(result) < len(name):\n",
    "    for Mid in name:\n",
    "        if Mid == name[len(result)]:\n",
    "            result.append(name[0])\n",
    "        elif Mid == name[1]:\n",
    "            result.append(name[1][0]+ '.')\n",
    "        elif Mid == name[2]:\n",
    "            result.append(name[2][0]+ '.')\n",
    "        else:\n",
    "            result.append(name[len(name)- 1])\n",
    "        \n",
    "print(\" \".join(result))"
   ]
  },
  {
   "cell_type": "markdown",
   "metadata": {},
   "source": [
    "# 달력 출력하기\n",
    "\n",
    "> 1월 1일 월요일부터 12월 31일까지 달력을 출력하세요.\n",
    "\n",
    "---\n",
    "```\n",
    "예시 출력)\n",
    "         1 월\n",
    "Mo Tu We Th Fr Sa Su \n",
    " 1  2  3  4  5  6  7 \n",
    " 8  9 10 11 12 13 14 \n",
    "15 16 17 18 19 20 21 \n",
    "22 23 24 25 26 27 28 \n",
    "29 30 31 \n",
    "         2 월\n",
    "Mo Tu We Th Fr Sa Su \n",
    " 1  2  3  4  5  6  7 \n",
    " 8  9 10 11 12 13 14 \n",
    "15 16 17 18 19 20 21 \n",
    "22 23 24 25 26 27 28 \n",
    "\n",
    "         3 월\n",
    "Mo Tu We Th Fr Sa Su \n",
    " 1  2  3  4  5  6  7 \n",
    " 8  9 10 11 12 13 14 \n",
    "15 16 17 18 19 20 21 \n",
    "22 23 24 25 26 27 28 \n",
    "29 30 31 \n",
    "         4 월\n",
    "Mo Tu We Th Fr Sa Su \n",
    " 1  2  3  4  5  6  7 \n",
    " 8  9 10 11 12 13 14 \n",
    "15 16 17 18 19 20 21 \n",
    "22 23 24 25 26 27 28 \n",
    "29 30 \n",
    "```"
   ]
  },
  {
   "cell_type": "code",
   "execution_count": 213,
   "metadata": {},
   "outputs": [],
   "source": [
    "calendar = {\n",
    "    1: 31, 2: 28, 3: 31, 4: 30, 5: 31, 6: 30, 7: 31, 8: 31, 9: 30, 10: 31, 11: 30, 12: 31\n",
    "}\n",
    "weeks = ['Mo', 'Tu', 'We', 'Th', 'Fr', 'Sa', 'Su']"
   ]
  },
  {
   "cell_type": "code",
   "execution_count": 232,
   "metadata": {},
   "outputs": [
    {
     "name": "stdout",
     "output_type": "stream",
     "text": [
      "1월\n",
      "Mo Tu We Th Fr Sa Su \n",
      " 1  2  3  4  5  6  7 \n",
      " 8  9 10 11 12 13 14 \n",
      "15 16 17 18 19 20 21 \n",
      "22 23 24 25 26 27 28 \n",
      "29 30 31 \n",
      "\n",
      "2월\n",
      "Mo Tu We Th Fr Sa Su \n",
      " 1  2  3  4  5  6  7 \n",
      " 8  9 10 11 12 13 14 \n",
      "15 16 17 18 19 20 21 \n",
      "22 23 24 25 26 27 28 \n",
      "\n",
      "\n",
      "3월\n",
      "Mo Tu We Th Fr Sa Su \n",
      " 1  2  3  4  5  6  7 \n",
      " 8  9 10 11 12 13 14 \n",
      "15 16 17 18 19 20 21 \n",
      "22 23 24 25 26 27 28 \n",
      "29 30 31 \n",
      "\n",
      "4월\n",
      "Mo Tu We Th Fr Sa Su \n",
      " 1  2  3  4  5  6  7 \n",
      " 8  9 10 11 12 13 14 \n",
      "15 16 17 18 19 20 21 \n",
      "22 23 24 25 26 27 28 \n",
      "29 30 \n",
      "\n",
      "5월\n",
      "Mo Tu We Th Fr Sa Su \n",
      " 1  2  3  4  5  6  7 \n",
      " 8  9 10 11 12 13 14 \n",
      "15 16 17 18 19 20 21 \n",
      "22 23 24 25 26 27 28 \n",
      "29 30 31 \n",
      "\n",
      "6월\n",
      "Mo Tu We Th Fr Sa Su \n",
      " 1  2  3  4  5  6  7 \n",
      " 8  9 10 11 12 13 14 \n",
      "15 16 17 18 19 20 21 \n",
      "22 23 24 25 26 27 28 \n",
      "29 30 \n",
      "\n",
      "7월\n",
      "Mo Tu We Th Fr Sa Su \n",
      " 1  2  3  4  5  6  7 \n",
      " 8  9 10 11 12 13 14 \n",
      "15 16 17 18 19 20 21 \n",
      "22 23 24 25 26 27 28 \n",
      "29 30 31 \n",
      "\n",
      "8월\n",
      "Mo Tu We Th Fr Sa Su \n",
      " 1  2  3  4  5  6  7 \n",
      " 8  9 10 11 12 13 14 \n",
      "15 16 17 18 19 20 21 \n",
      "22 23 24 25 26 27 28 \n",
      "29 30 31 \n",
      "\n",
      "9월\n",
      "Mo Tu We Th Fr Sa Su \n",
      " 1  2  3  4  5  6  7 \n",
      " 8  9 10 11 12 13 14 \n",
      "15 16 17 18 19 20 21 \n",
      "22 23 24 25 26 27 28 \n",
      "29 30 \n",
      "\n",
      "10월\n",
      "Mo Tu We Th Fr Sa Su \n",
      " 1  2  3  4  5  6  7 \n",
      " 8  9 10 11 12 13 14 \n",
      "15 16 17 18 19 20 21 \n",
      "22 23 24 25 26 27 28 \n",
      "29 30 31 \n",
      "\n",
      "11월\n",
      "Mo Tu We Th Fr Sa Su \n",
      " 1  2  3  4  5  6  7 \n",
      " 8  9 10 11 12 13 14 \n",
      "15 16 17 18 19 20 21 \n",
      "22 23 24 25 26 27 28 \n",
      "29 30 \n",
      "\n",
      "12월\n",
      "Mo Tu We Th Fr Sa Su \n",
      " 1  2  3  4  5  6  7 \n",
      " 8  9 10 11 12 13 14 \n",
      "15 16 17 18 19 20 21 \n",
      "22 23 24 25 26 27 28 \n",
      "29 30 31 \n",
      "\n"
     ]
    }
   ],
   "source": [
    "for mon, days in calendar.items():\n",
    "    print(f'{mon}월')\n",
    "    for weekday in weeks:\n",
    "        print(weekday, end=' ')\n",
    "    else:\n",
    "        print()\n",
    "    cnt = 0\n",
    "    for day in range(1, days+1):\n",
    "        print(f'{day:2}', end=' ')\n",
    "        cnt += 1\n",
    "        if cnt == 7:\n",
    "            print()\n",
    "            cnt = 0\n",
    "    else:\n",
    "        print() # 띄어쓰기 같은 느낌\n",
    "        print()"
   ]
  },
  {
   "cell_type": "code",
   "execution_count": null,
   "metadata": {},
   "outputs": [],
   "source": []
  },
  {
   "cell_type": "code",
   "execution_count": null,
   "metadata": {},
   "outputs": [],
   "source": []
  },
  {
   "cell_type": "code",
   "execution_count": null,
   "metadata": {},
   "outputs": [],
   "source": []
  },
  {
   "cell_type": "code",
   "execution_count": null,
   "metadata": {},
   "outputs": [],
   "source": []
  }
 ],
 "metadata": {
  "kernelspec": {
   "display_name": "Python 3",
   "language": "python",
   "name": "python3"
  },
  "language_info": {
   "codemirror_mode": {
    "name": "ipython",
    "version": 3
   },
   "file_extension": ".py",
   "mimetype": "text/x-python",
   "name": "python",
   "nbconvert_exporter": "python",
   "pygments_lexer": "ipython3",
   "version": "3.6.7"
  },
  "toc": {
   "base_numbering": 1,
   "nav_menu": {},
   "number_sections": true,
   "sideBar": true,
   "skip_h1_title": false,
   "title_cell": "Table of Contents",
   "title_sidebar": "Contents",
   "toc_cell": false,
   "toc_position": {},
   "toc_section_display": true,
   "toc_window_display": false
  }
 },
 "nbformat": 4,
 "nbformat_minor": 2
}
