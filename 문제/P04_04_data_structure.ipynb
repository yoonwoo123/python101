{
 "cells": [
  {
   "cell_type": "markdown",
   "metadata": {},
   "source": [
    "# 불쌍한 달팽이 - 고전 수학문제\n",
    "\n",
    ">달팽이는 낮 시간 동안에 기둥을 올라갑니다. 하지만 밤에는 잠을 자면서 어느 정도의 거리만큼미끄러집니다. (낮 시간 동안 올라간 거리보다는 적게 미끄러집니다) 달팽이가 기둥의 꼭대기에 도달하는 날까지 걸리는 시간을 계산하면 됩니다.\n",
    "\n",
    "> 당신의 함수에 들어가야 하는 3개의 인자는 다음과 같습니다.\n",
    "- 기둥의 높이(미터)\n",
    "- 낮 시간 동안 달팽이가 올라가는 거리(미터)\n",
    "- 달팽이가 야간에 잠을 자는 동안 미끄러지는 거리(미터)\n",
    "\n",
    "```\n",
    "snail(100, 5, 2)\n",
    "33\n",
    "```"
   ]
  },
  {
   "cell_type": "code",
   "execution_count": 302,
   "metadata": {},
   "outputs": [],
   "source": [
    "# 여기에 코드를 작성하세요\n",
    "\n",
    "# 1. 총 거리 100 에서 하루에 5가 빠지고 2가 더해진다.\n",
    "\n",
    "# 2. 그렇다면 하루에 3씩 빠지는거나 다름 없지만 5를 더했을 때 100이 넘는 순간 반복문을 종료해야한다.\n",
    "\n",
    "def snail(a, b, c):\n",
    "    total= a\n",
    "    cnt = 1\n",
    "    while total > 0:\n",
    "        total -=b\n",
    "        cnt += 1\n",
    "        if total>5:\n",
    "            total +=c\n",
    "    return cnt\n",
    "        \n",
    "    "
   ]
  },
  {
   "cell_type": "code",
   "execution_count": 300,
   "metadata": {},
   "outputs": [],
   "source": [
    "# 강사님 코드\n",
    "def snail(height, day, night):\n",
    "    count = 0\n",
    "    while True:\n",
    "        count += 1\n",
    "        height -= day\n",
    "        if height <= 0:\n",
    "            return count\n",
    "        height += night\n",
    "    return count"
   ]
  },
  {
   "cell_type": "code",
   "execution_count": 303,
   "metadata": {},
   "outputs": [
    {
     "name": "stdout",
     "output_type": "stream",
     "text": [
      "33\n"
     ]
    }
   ],
   "source": [
    "print(snail(100, 5, 2))"
   ]
  },
  {
   "cell_type": "markdown",
   "metadata": {},
   "source": [
    "# 무엇이 중복일까\n",
    "\n",
    "> 다음 리스트에서 중복되는 요소만 뽑아서 새로운 리스트에 옮기시오. \n",
    "\n",
    "```\n",
    "입력)\n",
    "duplicated(['a', 'b', 'c', 'b', 'd', 'm', 'n', 'n', 'b'])\n",
    "\n",
    "출력)\n",
    "['b', 'n']\n",
    "```"
   ]
  },
  {
   "cell_type": "code",
   "execution_count": 6,
   "metadata": {},
   "outputs": [],
   "source": [
    "def duplicated(alpha):\n",
    "    result = []\n",
    "    for i in alpha:\n",
    "        if alpha.count(i) > 1 and i not in result:\n",
    "            result.append(i)\n",
    "    return result"
   ]
  },
  {
   "cell_type": "code",
   "execution_count": 7,
   "metadata": {},
   "outputs": [
    {
     "data": {
      "text/plain": [
       "['b', 'n']"
      ]
     },
     "execution_count": 7,
     "metadata": {},
     "output_type": "execute_result"
    }
   ],
   "source": [
    "duplicated(['a', 'b', 'c', 'b', 'd', 'm', 'n', 'n', 'b'])"
   ]
  },
  {
   "cell_type": "code",
   "execution_count": null,
   "metadata": {},
   "outputs": [],
   "source": []
  },
  {
   "cell_type": "code",
   "execution_count": null,
   "metadata": {},
   "outputs": [],
   "source": []
  },
  {
   "cell_type": "code",
   "execution_count": 18,
   "metadata": {
    "scrolled": false
   },
   "outputs": [],
   "source": [
    "# 여기에 코드를 작성하시오.\n",
    "# 1. 리스트를 하나를 만든다 요소 하나씩만 있는 >> ex [a,b,c,d,m,n]\n",
    "# 2. 이 리스트와 원래 리스트를 비교해서 겹친다면 현상유지하고 \n",
    "# 2. 카운트가 2 이상인 요소들만 뽑아서 빈 리스트에 넣는다.\n",
    "\n",
    "def duplicated(alpha):\n",
    "    blank = []\n",
    "    dup = []\n",
    "    for i in alpha:\n",
    "        if alpha.count(i) >= 2:\n",
    "            dup.append(i)\n",
    "    return dup"
   ]
  },
  {
   "cell_type": "code",
   "execution_count": 20,
   "metadata": {},
   "outputs": [
    {
     "data": {
      "text/plain": [
       "['b', 'b', 'n', 'n', 'b']"
      ]
     },
     "execution_count": 20,
     "metadata": {},
     "output_type": "execute_result"
    }
   ],
   "source": [
    "duplicated(['a', 'b', 'c', 'b', 'd', 'm', 'n', 'n', 'b'])"
   ]
  },
  {
   "cell_type": "code",
   "execution_count": 288,
   "metadata": {},
   "outputs": [],
   "source": [
    "# 이렇게 축약할 수도 있는데 그냥 잊고 밑에 코드를 보자\n",
    "def duplicated(ls):\n",
    "    result =set()\n",
    "    return list({x for x in ls if ls.count(x) > 1})"
   ]
  },
  {
   "cell_type": "code",
   "execution_count": 292,
   "metadata": {},
   "outputs": [],
   "source": [
    "# 강사님 코드\n",
    "def duplicated(alphabets):\n",
    "    result = []\n",
    "    for char in alphabets:\n",
    "        if alphabets.count(char) > 1 and char not in result:\n",
    "            result.append(char)\n",
    "    return result"
   ]
  },
  {
   "cell_type": "code",
   "execution_count": 293,
   "metadata": {},
   "outputs": [
    {
     "data": {
      "text/plain": [
       "['b', 'n']"
      ]
     },
     "execution_count": 293,
     "metadata": {},
     "output_type": "execute_result"
    }
   ],
   "source": [
    "duplicated(['a', 'b', 'c', 'b', 'd', 'm', 'n', 'n', 'b'])\n"
   ]
  },
  {
   "cell_type": "code",
   "execution_count": null,
   "metadata": {},
   "outputs": [],
   "source": []
  },
  {
   "cell_type": "code",
   "execution_count": null,
   "metadata": {},
   "outputs": [],
   "source": []
  },
  {
   "cell_type": "markdown",
   "metadata": {},
   "source": [
    "# 알파벳만 남기고 뒤집기\n",
    "\n",
    ">문자열이 주어지면, 해당 문자열 중에서 알파벳이 아닌 문자는 전부 빼고 거꾸로 뒤집어 반환하는 함수를 작성하세요.\n",
    "\n",
    "```\n",
    "예시) \n",
    "reverse_letter(\"krishan\")\n",
    "\"nahsirk\"\n",
    "\n",
    "reverse_letter(\"ultr53o?n\")\n",
    "\"nortlu\"\n",
    "```"
   ]
  },
  {
   "cell_type": "code",
   "execution_count": 12,
   "metadata": {},
   "outputs": [],
   "source": [
    "def reverse_letter(alpha):\n",
    "    result = []\n",
    "    for i in alpha:\n",
    "        if i.isalpha() == True:\n",
    "            result.append(i)\n",
    "    return ''.join(result[::-1])"
   ]
  },
  {
   "cell_type": "code",
   "execution_count": 13,
   "metadata": {},
   "outputs": [
    {
     "name": "stdout",
     "output_type": "stream",
     "text": [
      "nortlu\n"
     ]
    }
   ],
   "source": [
    "print(reverse_letter(\"ultr53o?n\"))"
   ]
  },
  {
   "cell_type": "code",
   "execution_count": null,
   "metadata": {},
   "outputs": [],
   "source": []
  },
  {
   "cell_type": "code",
   "execution_count": 124,
   "metadata": {},
   "outputs": [],
   "source": [
    "# 여기에 코드를 작성하세요\n",
    "def reverse_letter(alpha):\n",
    "    blank = []\n",
    "    for i in alpha:\n",
    "        if i.isalpha() == True:\n",
    "            blank.append(i)\n",
    "#         else:\n",
    "#             blank.append(i)\n",
    "    blank = ''.join(blank[::-1])      \n",
    "    return blank\n",
    "# A1"
   ]
  },
  {
   "cell_type": "code",
   "execution_count": 125,
   "metadata": {},
   "outputs": [
    {
     "name": "stdout",
     "output_type": "stream",
     "text": [
      "nahsirk\n",
      "nortlu\n"
     ]
    }
   ],
   "source": [
    "print(reverse_letter(\"krishan\"))\n",
    "print(reverse_letter(\"ultr53o?n\"))"
   ]
  },
  {
   "cell_type": "code",
   "execution_count": 34,
   "metadata": {},
   "outputs": [
    {
     "data": {
      "text/plain": [
       "True"
      ]
     },
     "execution_count": 34,
     "metadata": {},
     "output_type": "execute_result"
    }
   ],
   "source": [
    "alpha = \"krishan\"\n",
    "alpha.isalpha()"
   ]
  },
  {
   "cell_type": "markdown",
   "metadata": {},
   "source": [
    "# 편-안한 단어\n",
    "\n",
    ">(QWERTY 키보드를 사용하여 타이핑을 한다고 가정할 때) '편안한 단어'는 타이핑 할 때 손을\n",
    "번갈아 칠 수 있는 단어를 말합니다.단어를 인자로 받아 그것이 '편안한 단어'인지 여부를 True/False로 반환하는 함수를 만드세요.(모든 단어는 a ~ z까지 오름차순으로 구성된 문자열입니다.)\n",
    "\n",
    ">문자 목록\n",
    "- 왼손: q, w, e, r, t, a, s, s, d, f, g, z, x, c, v, b\n",
    "- 오른손: y, u, i, o, p, h, j, k, l, n, m"
   ]
  },
  {
   "cell_type": "code",
   "execution_count": 283,
   "metadata": {},
   "outputs": [],
   "source": [
    "# 여기에 코드를 작성하세요.\n",
    "# 1 . 편안한 단어는 left 배열의 문자와 right배열의 문자가 번갈아 와야한다.\n",
    "#                     혹은 right, left 이런식\n",
    "# 2. 즉 반대로 생각하면 같은 배열의 문자가 연속해서 오지만 않으면 된다.\n",
    "# 3. 연속해서 같은 배열이 온다면 False를 반환\n",
    "# 4. 그렇지 않다면 True\n",
    "\n",
    "def comfortable_word(word):\n",
    "    left = ['q', 'w', 'e', 'r', 't', 'a', 's', 'd', 'f', 'g', 'z', 'x', 'c', 'v', 'b']\n",
    "    right = ['y', 'u', 'i', 'o', 'p','h', 'j', 'k', 'l', 'n', 'm']\n",
    "    cnt = 0\n",
    "    while cnt < len(word)-2 :\n",
    "        if word[cnt] == word[cnt+1]:\n",
    "            return False\n",
    "        else:\n",
    "            cnt += 1\n",
    "    return True\n",
    "            "
   ]
  },
  {
   "cell_type": "code",
   "execution_count": 297,
   "metadata": {},
   "outputs": [],
   "source": [
    "def comfortable_word(word):\n",
    "    left = ['q', 'w', 'e', 'r', 't', 'a', 's', 'd', 'f', 'g', 'z', 'x', 'c', 'v', 'b']\n",
    "    right = ['y', 'u', 'i', 'o', 'p','h', 'j', 'k', 'l', 'n', 'm']\n",
    "    left_blank = []\n",
    "    right_blank = []\n",
    "    blank = []\n",
    "    for char in word:\n",
    "        if char in left:\n",
    "            blank.append(0)\n",
    "        elif char in right:\n",
    "            blank.append(1)\n",
    "    for i in blank:\n",
    "        if \n",
    "    return blank\n",
    "        "
   ]
  },
  {
   "cell_type": "code",
   "execution_count": 308,
   "metadata": {},
   "outputs": [],
   "source": [
    "# 강사님 코드\n",
    "def comfortable_word(word):\n",
    "    left = 'qwertasdfgzxcvb'\n",
    "    right = 'yuiophjklnm'\n",
    "    flag = True # flag 를 True로 설정 (왼쪽)\n",
    "    # 왼쪽이 True, 오른쪽이 False\n",
    "    if word[0] in left: \n",
    "        flag = True\n",
    "    else:\n",
    "        flag = False\n",
    "        \n",
    "    for char in word[1:]: # word의 2번째값부터 꺼내본다.\n",
    "        if char in left and flag: # 꺼낸값이 왼쪽과 flag에 있다면 false 반환\n",
    "            return False\n",
    "        elif char in right and not flag: # 꺼낸값이 오른쪽에 있고 flag에 없다면(오른쪽)\n",
    "            return False\n",
    "        flag = not flag # flag = False 로 바꿔줌\n",
    "    return True"
   ]
  },
  {
   "cell_type": "code",
   "execution_count": 309,
   "metadata": {},
   "outputs": [
    {
     "name": "stdout",
     "output_type": "stream",
     "text": [
      "True\n",
      "False\n"
     ]
    }
   ],
   "source": [
    "print(comfortable_word(\"qywu\"))\n",
    "print(comfortable_word(\"apple\"))"
   ]
  },
  {
   "cell_type": "markdown",
   "metadata": {},
   "source": [
    "# 숫자패턴\n",
    "\n",
    ">원하는 행까지 아래의 패턴을 생성하는 함수를 작성하세요. 만약 인자가 0이나 음의 정수인 경우 \"\" 즉, 빈 문자열로 반환하세요.짝수가 인수로 전달되면 패턴은 통과된 짝수보다 작은 최대 홀수까지 계속되어야 합니다.\n",
    "\n",
    "```\n",
    "예시 \n",
    "pattern(9):\n",
    "\n",
    "1\n",
    "333\n",
    "55555\n",
    "7777777\n",
    "999999999\n",
    "\n",
    "pattern(6)\n",
    "1\n",
    "333\n",
    "55555\n",
    "\n",
    "유의\n",
    "패턴에 공백은 없습니다.\n",
    "```"
   ]
  },
  {
   "cell_type": "code",
   "execution_count": 294,
   "metadata": {},
   "outputs": [],
   "source": [
    "# 여기에 코드를 작성하세요\n",
    "# a str 화 한다\n",
    "# 그 후 다시 인트화 하고 2증가하고 str화 한다.\n",
    "# a를 다시 int화 하고 2증가하고 str한다.\n",
    "# 리스트에 넣은 stair를 세로로 나열하기 위해서\n",
    "\n",
    "def pattern(num):\n",
    "    cnt = 1\n",
    "    a = 1\n",
    "    stair=[]\n",
    "    while cnt <= num:\n",
    "        a = str(a)\n",
    "        stair.append(a * cnt)\n",
    "#         print(a*cnt)\n",
    "        cnt += 2\n",
    "        if type(a)==str:\n",
    "            a = int(a)\n",
    "            a +=2\n",
    "    if num <= 0:\n",
    "        print()\n",
    "    return '\\n'.join(stair)"
   ]
  },
  {
   "cell_type": "code",
   "execution_count": 295,
   "metadata": {},
   "outputs": [],
   "source": [
    "# 강사님 코드\n",
    "def pattern(x):\n",
    "    result = []\n",
    "    for x in range(1, x+1):\n",
    "        if x % 2 == 1:\n",
    "            result.append(str(x)*x)\n",
    "            \n",
    "    return '\\n'.join(result)"
   ]
  },
  {
   "cell_type": "code",
   "execution_count": 296,
   "metadata": {},
   "outputs": [
    {
     "name": "stdout",
     "output_type": "stream",
     "text": [
      "1\n",
      "333\n",
      "55555\n",
      "7777777\n",
      "999999999\n",
      "1\n",
      "333\n",
      "55555\n"
     ]
    }
   ],
   "source": [
    "# 해당 코드를 통해 올바른 결과가 나오는지 확인하세요.\n",
    "print(pattern(9))\n",
    "print(pattern(6))"
   ]
  },
  {
   "cell_type": "markdown",
   "metadata": {},
   "source": [
    "# 숫자가 좋아\n",
    "\n",
    "> 스트링과 함께 섞여있는 문자열들 속에서 정수만 뽑아내 합을 반환하는 함수 `pick_and_sum`를 작성하세요.\n",
    "\n",
    "예시)\n",
    "```python\n",
    "pick_and_sum(\"The30quick20brown10f0x1203jumps914ov3r1349the102l4zy dog\") #=> 3635\n",
    "```"
   ]
  },
  {
   "cell_type": "code",
   "execution_count": 229,
   "metadata": {},
   "outputs": [],
   "source": [
    "# 여기에 코드를 작성하세요.\n",
    "# 1. 숫자외의 값이 계속 나오다가 숫자가 나올때의 i값과 그후 숫자외의 값이\n",
    "#    나오기전까지의 i값까지가 하나의 숫자다 그 숫자들을 전부 더하자\n",
    "# if가 너무 많이 나와서 방식을 바꾸자\n",
    "def pick_and_sum(word):\n",
    "    blank = []\n",
    "    cnt = 0\n",
    "#     for i in word:\n",
    "#         if i.isdecimal() == True:\n",
    "#             blank.append(i)\n",
    "#             if i.isdecimal() == False:\n",
    "    while cnt < len(word)-2:\n",
    "        if word[cnt].isdecimal() == True:\n",
    "            cnt += 1\n",
    "            if word[cnt].isdecimal() == True:\n",
    "                cnt += 1\n",
    "                if word[cnt].isdecimal() == True:\n",
    "                    blank.append( str(word[cnt-2])+ str(word[cnt-1])+str(word[cnt]))\n",
    "                else:\n",
    "                    blank.append( str(word[cnt-2])+ str(word[cnt-1]))\n",
    "            else:\n",
    "                blank.append(str(word[cnt-1]))\n",
    "        elif word[cnt].isdecimal() == False:\n",
    "            cnt += 1\n",
    "        \n",
    "    return blank"
   ]
  },
  {
   "cell_type": "code",
   "execution_count": 279,
   "metadata": {},
   "outputs": [],
   "source": [
    "# 강사님이 알려준 효율적인 방법\n",
    "def pick_and_sum(word):\n",
    "    blank = []\n",
    "    for i in word:\n",
    "        if i.isdecimal() == False:\n",
    "            word = word.replace(i,' ')\n",
    "    word = word.split()\n",
    "    word = sum(map(int,word))\n",
    "    return word"
   ]
  },
  {
   "cell_type": "code",
   "execution_count": 1,
   "metadata": {},
   "outputs": [],
   "source": [
    "# 강사님이 알려준 정석적인 방법\n",
    "def pick_and_sum(word):\n",
    "    blank = []\n",
    "    result = []\n",
    "    for i in word:\n",
    "        if i.isdecimal() == True:\n",
    "            blank.append(i)\n",
    "#             return blank\n",
    "        else:\n",
    "            result.append(''.join(blank))\n",
    "            blank = []\n",
    "    result= ' '.join(result)\n",
    "    result = result.split()\n",
    "    result = sum(map(int,result))\n",
    "    return result"
   ]
  },
  {
   "cell_type": "code",
   "execution_count": 2,
   "metadata": {},
   "outputs": [
    {
     "name": "stdout",
     "output_type": "stream",
     "text": [
      "3635\n"
     ]
    }
   ],
   "source": [
    "# 해당 코드를 통해 올바른 결과가 나오는지 확인하세요.\n",
    "print(pick_and_sum(\"The30quick20brown10f0x1203jumps914ov3r1349the102l4zy dog\"))"
   ]
  }
 ],
 "metadata": {
  "kernelspec": {
   "display_name": "Python 3",
   "language": "python",
   "name": "python3"
  },
  "language_info": {
   "codemirror_mode": {
    "name": "ipython",
    "version": 3
   },
   "file_extension": ".py",
   "mimetype": "text/x-python",
   "name": "python",
   "nbconvert_exporter": "python",
   "pygments_lexer": "ipython3",
   "version": "3.7.1"
  },
  "latex_envs": {
   "LaTeX_envs_menu_present": true,
   "autoclose": false,
   "autocomplete": true,
   "bibliofile": "biblio.bib",
   "cite_by": "apalike",
   "current_citInitial": 1,
   "eqLabelWithNumbers": true,
   "eqNumInitial": 1,
   "hotkeys": {
    "equation": "Ctrl-E",
    "itemize": "Ctrl-I"
   },
   "labels_anchors": false,
   "latex_user_defs": false,
   "report_style_numbering": false,
   "user_envs_cfg": false
  },
  "toc": {
   "base_numbering": 1,
   "nav_menu": {},
   "number_sections": true,
   "sideBar": true,
   "skip_h1_title": false,
   "title_cell": "Table of Contents",
   "title_sidebar": "Contents",
   "toc_cell": false,
   "toc_position": {},
   "toc_section_display": true,
   "toc_window_display": false
  }
 },
 "nbformat": 4,
 "nbformat_minor": 2
}
