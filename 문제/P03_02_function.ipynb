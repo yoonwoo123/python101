{
 "cells": [
  {
   "cell_type": "markdown",
   "metadata": {},
   "source": [
    "# 종합소득세 계산하기\n",
    "\n",
    "> A라는 나라에서는 종합소득세는 과세표준 금액 구간에 따라 다른 세율이 적용됩니다.\n",
    "\n",
    "|과세표준액|세율|\n",
    "|-------|---|\n",
    "|1,200이하|6%|\n",
    "|1,200 ~ 4,600|15%|\n",
    "|4,600 ~ |35%|\n",
    "\n",
    "즉, 1,300원을 벌었을 경우 `1,200\\*0.06 + 100\\*0.15`를 계산한 결과가 납부해야 하는 세액입니다.\n",
    "\n",
    "함수 `tax(won)`을 만들고 납부해야하는 세금의 결과를 반환하는 함수를 만들어보세요.\n",
    "\n",
    "---\n",
    "```\n",
    "예시)\n",
    "tax(1200) #=> 72.0\n",
    "tax(4600) #=> 582.0\n",
    "tax(5000) #=> 722.0\n",
    "```"
   ]
  },
  {
   "cell_type": "code",
   "execution_count": 11,
   "metadata": {},
   "outputs": [],
   "source": [
    "# 여기에 코드를 작성하세요.\n",
    "def tax(won):\n",
    "    if won <= 1200:\n",
    "        won = won*0.06\n",
    "    elif won > 1200 and won <= 4600:\n",
    "        won = 72 + (won-1200)*0.15\n",
    "    else:\n",
    "        won = 582 + (won-4600)*0.35\n",
    "    return won"
   ]
  },
  {
   "cell_type": "code",
   "execution_count": 10,
   "metadata": {},
   "outputs": [
    {
     "name": "stdout",
     "output_type": "stream",
     "text": [
      "72.0\n",
      "582.0\n",
      "722.0\n"
     ]
    }
   ],
   "source": [
    "print(tax(1200))\n",
    "print(tax(4600))\n",
    "print(tax(5000))"
   ]
  },
  {
   "cell_type": "markdown",
   "metadata": {},
   "source": [
    "# 카쉐어링 요금 계산하기\n",
    "\n",
    "> 카쉐어링 서비스는 요금을 다음과 같이 계산합니다.\n",
    ">\n",
    "> 대여는 10분 단위로 가능합니다.\n",
    "> \n",
    "> 1. 대여 요금 : 10분당 1,200원\n",
    ">\n",
    "> 2. 보험료 : 30분당 525원 (50분을 빌리면, 1시간으로 계산됩니다.)\n",
    ">\n",
    "> 3. 주행 요금 : km당 170원 (주행 요금은 100km가 넘어가면, 넘어간 부분에 대하여 할인이 50% 적용됩니다.)\n",
    ">\n",
    "> 예) 160km를 달렸으면, 170\\*100 + 85 \\*60\n",
    ">\n",
    "> 양의 정수인 대여시간(분)과 주행거리를 받아 계산 결과를 반환하는 함수 `fee(minute, distance)`를 만들어보세요.\n",
    "---\n",
    "```\n",
    "예시) \n",
    "    fee(600, 50) #=> 91000\n",
    "    fee(600, 110) #=> 100350\n",
    "```"
   ]
  },
  {
   "cell_type": "code",
   "execution_count": 62,
   "metadata": {},
   "outputs": [
    {
     "data": {
      "text/plain": [
       "1"
      ]
     },
     "execution_count": 62,
     "metadata": {},
     "output_type": "execute_result"
    }
   ],
   "source": [
    "30//30"
   ]
  },
  {
   "cell_type": "code",
   "execution_count": 71,
   "metadata": {},
   "outputs": [
    {
     "data": {
      "text/plain": [
       "6"
      ]
     },
     "execution_count": 71,
     "metadata": {},
     "output_type": "execute_result"
    }
   ],
   "source": [
    "import math\n",
    "math.ceil(5.212)"
   ]
  },
  {
   "cell_type": "code",
   "execution_count": 74,
   "metadata": {},
   "outputs": [],
   "source": [
    "# 여기에 코드를 작성하세요.\n",
    "import math\n",
    "def fee(minute, distance):\n",
    "    total = 0\n",
    "    if minute>0 and minute <=30:\n",
    "        total +=minute*0.1*1200 + 525\n",
    "        if distance>0 and distance < 100:\n",
    "            total += distance*170\n",
    "        elif distance>= 100:\n",
    "            total += 17000 + (distance-100) * 85\n",
    "    elif minute> 30:\n",
    "        total += minute*0.1*1200 + math.ceil(minute/30)*525\n",
    "        if distance>0 and distance < 100:\n",
    "            total += distance*170\n",
    "        elif distance>= 100:\n",
    "            total += 17000 + (distance-100) * 85\n",
    "    return total"
   ]
  },
  {
   "cell_type": "code",
   "execution_count": 75,
   "metadata": {
    "scrolled": true
   },
   "outputs": [
    {
     "name": "stdout",
     "output_type": "stream",
     "text": [
      "91000.0\n",
      "100350.0\n",
      "15550.0\n",
      "16750.0\n",
      "11425.0\n"
     ]
    }
   ],
   "source": [
    "print(fee(600, 50))\n",
    "print(fee(600, 110))\n",
    "print(fee(50, 50))\n",
    "print(fee(60, 50))\n",
    "print(fee(20, 50))"
   ]
  },
  {
   "cell_type": "code",
   "execution_count": 23,
   "metadata": {},
   "outputs": [
    {
     "name": "stdout",
     "output_type": "stream",
     "text": [
      "340.0\n"
     ]
    }
   ],
   "source": [
    "toy = 300\n",
    "a = 200*0.2\n",
    "toy += a\n",
    "print(toy)"
   ]
  },
  {
   "cell_type": "code",
   "execution_count": null,
   "metadata": {},
   "outputs": [],
   "source": []
  },
  {
   "cell_type": "markdown",
   "metadata": {},
   "source": [
    "# 문자열 탐색\n",
    "\n",
    "> 문자열 요소로만 이루어진 리스트를 넣었을 때, 문자열 길이가 2 이상이고 주어진 문자열의 첫번째와 마지막 문자가 같은 문자열의 수를 세는 함수 `start_end`를 작성하시오.\n",
    "\n",
    "예시)\n",
    "\n",
    "```python\n",
    "start_end(['level', 'asdwe', 's', 'abceda', 'gsdwrtfg']) #=> 3\n",
    "```\n"
   ]
  },
  {
   "cell_type": "code",
   "execution_count": 106,
   "metadata": {},
   "outputs": [],
   "source": [
    "# 여기에 코드를 작성하세요.\n",
    "def start_end(a):\n",
    "    cnt = 0\n",
    "    for i in a:\n",
    "        if len(i) >= 2 and str(i)[0] == str(i)[-1]:\n",
    "            cnt += 1\n",
    "    return cnt    "
   ]
  },
  {
   "cell_type": "code",
   "execution_count": 105,
   "metadata": {},
   "outputs": [
    {
     "name": "stdout",
     "output_type": "stream",
     "text": [
      "gsdwrtfg\n",
      "5\n"
     ]
    },
    {
     "data": {
      "text/plain": [
       "'l'"
      ]
     },
     "execution_count": 105,
     "metadata": {},
     "output_type": "execute_result"
    }
   ],
   "source": [
    "ab = ['level','asdwe', 's', 'abceda', 'gsdwrtfg']\n",
    "print(ab[4])\n",
    "print(len(ab))\n",
    "str(ab[0])[0]"
   ]
  },
  {
   "cell_type": "code",
   "execution_count": 107,
   "metadata": {},
   "outputs": [
    {
     "name": "stdout",
     "output_type": "stream",
     "text": [
      "3\n"
     ]
    }
   ],
   "source": [
    "# 해당 코드를 통해 3이 나오는지 확인하세요.\n",
    "print(start_end(['level', 'asdwe', 's', 'abceda', 'gsdwrtfg']))"
   ]
  },
  {
   "cell_type": "markdown",
   "metadata": {},
   "source": [
    "\n",
    "# 이상한 덧셈\n",
    "\n",
    "> 숫자 구성된 리스트에서 양의 정수의 합을 구하는 함수 `positive_sum`을 작성하세요.\n",
    "\n",
    "예시)\n",
    "\n",
    "```python\n",
    "positive_sum([1,-4,7,12]) #=> 20\n",
    "positive_sum([-1, -2, -3, -4]) #=> 0\n",
    "```"
   ]
  },
  {
   "cell_type": "code",
   "execution_count": 112,
   "metadata": {},
   "outputs": [],
   "source": [
    "# 여기에 코드를 작성하세요.\n",
    "def positive_sum(a):\n",
    "    total = 0\n",
    "    for i in a:\n",
    "        if i>0:\n",
    "            total += i\n",
    "    return total"
   ]
  },
  {
   "cell_type": "code",
   "execution_count": 113,
   "metadata": {},
   "outputs": [
    {
     "name": "stdout",
     "output_type": "stream",
     "text": [
      "20\n",
      "0\n"
     ]
    }
   ],
   "source": [
    "# 해당 코드를 통해 20과 0이 나오는지 확인하세요.\n",
    "print(positive_sum([1,-4,7,12]))\n",
    "print(positive_sum([-1, -2, -3, -4]))"
   ]
  },
  {
   "cell_type": "markdown",
   "metadata": {},
   "source": [
    "# Collatz\n",
    "\n",
    "> 1937년 Collatz란 사람에 의해 제기된 이 추측은, 주어진 수가 1이 될때까지 다음 작업을 반복하면, 모든 수를 1로 만들 수 있다는 추측입니다. 작업은 다음과 같습니다.\n",
    ">\n",
    "> 1. 입력된 수가 짝수라면 2로 나눕니다. \n",
    "> 2. 입력된 수가 홀수라면 3을 곱하고 1을 더합니다.\n",
    "> 3. 결과로 나온 수에 같은 작업을 1이 될 때까지 반복합니다.\n",
    ">\n",
    "> 예를 들어, 입력된 수가 6이라면 6→3→10→5→16→8→4→2→1 이 되어 총 8번 만에 1이 됩니다.\n",
    ">\n",
    "> 위 작업을 몇 번이나 반복해야하는지 반환하는 함수, collatz를 완성해 주세요.\n",
    ">\n",
    "> 단, 작업을 500번을 반복해도 1이 되지 않는다면 –1을 반환해 주세요.\n",
    "\n",
    "예시)\n",
    "\n",
    "```python\n",
    "collatz(6) #=> 8\n",
    "collatz(16) #=> 4\n",
    "collatz(27) #=> 111\n",
    "collatz(626331) #=> -1\n",
    "```"
   ]
  },
  {
   "cell_type": "code",
   "execution_count": 118,
   "metadata": {},
   "outputs": [],
   "source": [
    "# 여기에 코드를 작성하세요.\n",
    "def collatz(a):\n",
    "    cnt = 0\n",
    "    while a != 1 and cnt < 500:\n",
    "        if a%2 == 0:\n",
    "            a/=2\n",
    "            cnt += 1\n",
    "        elif a%2 == 1:\n",
    "            a = a*3 + 1\n",
    "            cnt += 1\n",
    "#         elif a == 1:\n",
    "#             return cnt\n",
    "    if cnt == 500:\n",
    "            return -1\n",
    "    return cnt"
   ]
  },
  {
   "cell_type": "code",
   "execution_count": 116,
   "metadata": {},
   "outputs": [],
   "source": [
    "#강사님 코드\n",
    "def collatz(num):\n",
    "    for i in range(500): # for 문 500번 돌려라\n",
    "        if num % 2 == 0:\n",
    "            num /= 2\n",
    "        else:\n",
    "            num = num * 3 + 1\n",
    "        if num == 1:\n",
    "            return i + 1\n",
    "    return -1"
   ]
  },
  {
   "cell_type": "code",
   "execution_count": 119,
   "metadata": {},
   "outputs": [
    {
     "name": "stdout",
     "output_type": "stream",
     "text": [
      "8\n",
      "4\n",
      "111\n",
      "-1\n"
     ]
    }
   ],
   "source": [
    "# 해당 코드를 통해 8, 4, 111, -1 이 나오는지 확인하세요.\n",
    "print(collatz(6))\n",
    "print(collatz(16))\n",
    "print(collatz(27))\n",
    "print(collatz(626331))"
   ]
  },
  {
   "cell_type": "markdown",
   "metadata": {},
   "source": [
    "# 솔로 천국 만들기\n",
    "\n",
    "> 리스트가 주어집니다. 리스트의 각 요소는 숫자 0부터 9까지로 이루어져 있습니다. \n",
    ">\n",
    "> 이때, 리스트에서 연속적으로 나타나는 숫자는 하나만 남기고 전부 제거하려고 합니다. \n",
    ">\n",
    "> 리스트에서 연속적으로 나타나는 숫자는 제거하고 남은 수들을 반환하는 lonely 함수를 작성해 주세요.\n",
    ">\n",
    "> 단, 제거된 후 남은 수들을 반환할 때는 리스트의 요소들의 순서를 유지해야 합니다.  \n",
    "\n",
    "예시)\n",
    "\n",
    "```python\n",
    "lonely([1, 1, 3, 3, 0, 1, 1]) #=> [1, 3, 0, 1]\n",
    "lonely([4,4,4,3,3]) #=> [4,3]\n",
    "```\n"
   ]
  },
  {
   "cell_type": "code",
   "execution_count": null,
   "metadata": {},
   "outputs": [],
   "source": [
    "# 1.리스트 요소에 연속된 수를 찾아야한다\n",
    "    \"cnt를 증가시키면서 하나씩 비교하던가 리스트함수를 만들어서 비교한다.\"\n",
    "    \"하나씩 비교하면 1,1,1의 경우 1,1 이되어서안된다\"\n",
    "    \"리스트함수로 비교하면 나중에 나온 1이 제거된다.\"\n",
    "    \n",
    "# 2. 연속된 수는 1개만 남기고 모두제거한다.\n",
    "\n",
    "# 3. 연속되지 않고 1개만 나온 수는 남겨야한다.\n",
    "\n",
    "# 4. 제거 후 남은 수들이 순서가 유지되야한다."
   ]
  },
  {
   "cell_type": "code",
   "execution_count": 104,
   "metadata": {},
   "outputs": [],
   "source": [
    "# 여기에 코드를 작성하세요.\n",
    "def lonely(a):\n",
    "    cnt1 = 0\n",
    "    cnt2 = 0\n",
    "    res1 = []\n",
    "    res2 = []\n",
    "    while cnt1<= len(a)-2:\n",
    "        if a[cnt1] == a[cnt1+1]:\n",
    "            res1.append(a[cnt1])\n",
    "            cnt1 += 1\n",
    "            if a[cnt1-1] not in res1:\n",
    "                res1.append(a[cnt1-1])\n",
    "        elif a[cnt1] != a[cnt1+1]:\n",
    "            cnt1 += 1\n",
    "            if a[cnt1-1] not in res1:\n",
    "                res1.append(a[cnt1-1])\n",
    "        elif a[cnt1] == a[cnt1+1] == a[cnt1+1]:\n",
    "#     while cnt2 <= len(res1)-2:\n",
    "#         if res1[cnt2] == res1[cnt2+1]:\n",
    "#             res2.append(res1[cnt2])\n",
    "#             cnt2 += 1\n",
    "#             if res1[cnt2-1] not in res2:\n",
    "#                 res2.append(res1[cnt2-1])\n",
    "#         elif res1[cnt2] != res1[cnt2+1]:\n",
    "#             cnt2 += 1\n",
    "#             if res1[cnt2-1] not in res2:\n",
    "#                 res2.append(res1[cnt2-1])\n",
    "    return res1"
   ]
  },
  {
   "cell_type": "code",
   "execution_count": null,
   "metadata": {},
   "outputs": [],
   "source": [
    "def lonely(a):\n",
    "    cnt = 0\n",
    "    result = []\n",
    "    for i in a\n",
    "        if i:\n",
    "            result[cnt] = a[cnt]\n",
    "            cnt += 1"
   ]
  },
  {
   "cell_type": "code",
   "execution_count": 46,
   "metadata": {},
   "outputs": [],
   "source": [
    "def lonely(a):\n",
    "    result = []\n",
    "    for i in a:\n",
    "        if i not in result:\n",
    "            result.append(i)\n",
    "        elif a[2] == a[2+1] :\n",
    "            result.append(a[2])\n",
    "    return result"
   ]
  },
  {
   "cell_type": "code",
   "execution_count": null,
   "metadata": {},
   "outputs": [],
   "source": [
    "range()"
   ]
  },
  {
   "cell_type": "code",
   "execution_count": 75,
   "metadata": {},
   "outputs": [
    {
     "data": {
      "text/plain": [
       "range(0, 7)"
      ]
     },
     "execution_count": 75,
     "metadata": {},
     "output_type": "execute_result"
    }
   ],
   "source": [
    "b = [1, 1, 3, 3, 0, 1, 1]\n",
    "cnt = range(len(b))\n",
    "cnt"
   ]
  },
  {
   "cell_type": "code",
   "execution_count": 105,
   "metadata": {},
   "outputs": [
    {
     "name": "stdout",
     "output_type": "stream",
     "text": [
      "[1, 3, 0, 1]\n",
      "[4, 4, 3]\n"
     ]
    }
   ],
   "source": [
    "# 해당 코드를 통해 [1, 3, 0, 1]과 [4, 3]이 나오는지 확인하세요.\n",
    "print(lonely([1, 1, 3, 3, 0, 1, 1]))\n",
    "print(lonely([4,4,4,3,3]))"
   ]
  },
  {
   "cell_type": "code",
   "execution_count": 113,
   "metadata": {},
   "outputs": [],
   "source": [
    "# 강사님 코드\n",
    "def lonely(numbers):\n",
    "    result = [numbers[0]]\n",
    "    for n in numbers:\n",
    "        if result[-1] != n:\n",
    "            result.append(n)\n",
    "    return result"
   ]
  },
  {
   "cell_type": "code",
   "execution_count": 114,
   "metadata": {},
   "outputs": [
    {
     "name": "stdout",
     "output_type": "stream",
     "text": [
      "[1, 3, 0, 1]\n",
      "[4, 3]\n"
     ]
    }
   ],
   "source": [
    "# 해당 코드를 통해 [1, 3, 0, 1]과 [4, 3]이 나오는지 확인하세요.\n",
    "print(lonely([1, 1, 3, 3, 0, 1, 1]))\n",
    "print(lonely([4,4,4,3,3]))"
   ]
  }
 ],
 "metadata": {
  "kernelspec": {
   "display_name": "Python 3",
   "language": "python",
   "name": "python3"
  },
  "language_info": {
   "codemirror_mode": {
    "name": "ipython",
    "version": 3
   },
   "file_extension": ".py",
   "mimetype": "text/x-python",
   "name": "python",
   "nbconvert_exporter": "python",
   "pygments_lexer": "ipython3",
   "version": "3.7.1"
  },
  "latex_envs": {
   "LaTeX_envs_menu_present": true,
   "autoclose": false,
   "autocomplete": true,
   "bibliofile": "biblio.bib",
   "cite_by": "apalike",
   "current_citInitial": 1,
   "eqLabelWithNumbers": true,
   "eqNumInitial": 1,
   "hotkeys": {
    "equation": "Ctrl-E",
    "itemize": "Ctrl-I"
   },
   "labels_anchors": false,
   "latex_user_defs": false,
   "report_style_numbering": false,
   "user_envs_cfg": false
  },
  "toc": {
   "base_numbering": 1,
   "nav_menu": {},
   "number_sections": true,
   "sideBar": true,
   "skip_h1_title": false,
   "title_cell": "Table of Contents",
   "title_sidebar": "Contents",
   "toc_cell": false,
   "toc_position": {},
   "toc_section_display": true,
   "toc_window_display": false
  }
 },
 "nbformat": 4,
 "nbformat_minor": 2
}
