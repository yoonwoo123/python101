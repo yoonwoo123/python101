{
 "cells": [
  {
   "cell_type": "markdown",
   "metadata": {},
   "source": [
    "# 포켓몬 게임 만들기\n",
    "\n",
    "> 포켓몬 게임을 만들어봅시다. \n",
    "\n",
    "class Pokemon\n",
    "\n",
    "```\n",
    "* 모든 포켓몬은 기본적으로 이름(name), 레벨(level), 체력(hp)를 가지고 있습니다. \n",
    "\n",
    "* hp는 사용자로부터 값을 받는 것이 아니라 '레벨*10 + (1~5)중 랜덤값'으로 설정됩니다. \n",
    "\n",
    "* 포켓몬은 체력을 잃거나 회복할 수 있습니다.\n",
    "ex) pikachu.set_hp(4)\n",
    "\n",
    "* 포켓몬은 공격을 할 수 있습니다. \n",
    "ex) pikachu.attack(squirtle)\n",
    "```\n",
    "\n",
    "이외에 자유롭게 내용을 추가해서 만들어봅시다."
   ]
  },
  {
   "cell_type": "code",
   "execution_count": 247,
   "metadata": {},
   "outputs": [
    {
     "name": "stdout",
     "output_type": "stream",
     "text": [
      " /$$     /$$                                     /$$     /$$                                               /$$      /$$                    \n",
      "|  $$   /$$/                                    |  $$   /$$/                                              | $$  /$ | $$                    \n",
      " \\  $$ /$$/   /$$$$$$   /$$$$$$  /$$$$$$$        \\  $$ /$$/   /$$$$$$  /$$   /$$ /$$$$$$$   /$$$$$$       | $$ /$$$| $$  /$$$$$$   /$$$$$$ \n",
      "  \\  $$$$/   /$$__  $$ /$$__  $$| $$__  $$        \\  $$$$/   /$$__  $$| $$  | $$| $$__  $$ /$$__  $$      | $$/$$ $$ $$ /$$__  $$ /$$__  $$\n",
      "   \\  $$/   | $$  \\ $$| $$  \\ $$| $$  \\ $$         \\  $$/   | $$  \\ $$| $$  | $$| $$  \\ $$| $$  \\ $$      | $$$$_  $$$$| $$  \\ $$| $$  \\ $$\n",
      "    | $$    | $$  | $$| $$  | $$| $$  | $$          | $$    | $$  | $$| $$  | $$| $$  | $$| $$  | $$      | $$$/ \\  $$$| $$  | $$| $$  | $$\n",
      "    | $$    |  $$$$$$/|  $$$$$$/| $$  | $$          | $$    |  $$$$$$/|  $$$$$$/| $$  | $$|  $$$$$$$      | $$/   \\  $$|  $$$$$$/|  $$$$$$/\n",
      "    |__/     \\______/  \\______/ |__/  |__/          |__/     \\______/  \\______/ |__/  |__/ \\____  $$      |__/     \\__/ \\______/  \\______/ \n",
      "                                                                                           /$$  \\ $$                                       \n",
      "                                                                                          |  $$$$$$/                                       \n",
      "                                                                                           \\______/                                        \n"
     ]
    }
   ],
   "source": [
    "import random\n",
    "class Pokemon:\n",
    "    print(''' /$$     /$$                                     /$$     /$$                                               /$$      /$$                    \n",
    "|  $$   /$$/                                    |  $$   /$$/                                              | $$  /$ | $$                    \n",
    " \\  $$ /$$/   /$$$$$$   /$$$$$$  /$$$$$$$        \\  $$ /$$/   /$$$$$$  /$$   /$$ /$$$$$$$   /$$$$$$       | $$ /$$$| $$  /$$$$$$   /$$$$$$ \n",
    "  \\  $$$$/   /$$__  $$ /$$__  $$| $$__  $$        \\  $$$$/   /$$__  $$| $$  | $$| $$__  $$ /$$__  $$      | $$/$$ $$ $$ /$$__  $$ /$$__  $$\n",
    "   \\  $$/   | $$  \\ $$| $$  \\ $$| $$  \\ $$         \\  $$/   | $$  \\ $$| $$  | $$| $$  \\ $$| $$  \\ $$      | $$$$_  $$$$| $$  \\ $$| $$  \\ $$\n",
    "    | $$    | $$  | $$| $$  | $$| $$  | $$          | $$    | $$  | $$| $$  | $$| $$  | $$| $$  | $$      | $$$/ \\  $$$| $$  | $$| $$  | $$\n",
    "    | $$    |  $$$$$$/|  $$$$$$/| $$  | $$          | $$    |  $$$$$$/|  $$$$$$/| $$  | $$|  $$$$$$$      | $$/   \\  $$|  $$$$$$/|  $$$$$$/\n",
    "    |__/     \\______/  \\______/ |__/  |__/          |__/     \\______/  \\______/ |__/  |__/ \\____  $$      |__/     \\__/ \\______/  \\______/ \n",
    "                                                                                           /$$  \\ $$                                       \n",
    "                                                                                          |  $$$$$$/                                       \n",
    "                                                                                           \\______/                                        ''')\n",
    "    def __init__(self, name, level):\n",
    "        self.name = name\n",
    "        self.level = level\n",
    "        self.hp = level *10 + random.choice(range(1,6))\n",
    "        \n",
    "    def set_hp(self, num):\n",
    "        self.hp += num\n",
    "        print(f'{self.name}의 체력이 {self.hp}가 되었다....!')\n",
    "        \n",
    "    def attack(self, other):\n",
    "        damage = random.randint(1, 10)\n",
    "        print(f'{self.name}이 {other.name}에게 몸통 박치기를 했다..!')\n",
    "        other.set_hp(-damage)\n",
    "        \n",
    "class Trainer:\n",
    "    def __init__(self, name, age):\n",
    "        self.name = name\n",
    "        self.age = age\n",
    "        self.town = '태초마을'\n",
    "        self.monsterball = []\n",
    "        \n",
    "    def get_pokemon(self, pokemon):\n",
    "        if random.randint(0, 1):\n",
    "            self.monsterball.append(pokemon)\n",
    "            print(f'{self.name}은(는) {pokemon.name}을(를) 잡았다...!!')\n",
    "        else:\n",
    "            print(f'{pokemon.level}의 야생의 {pokemon.name}은(는) 도망갔다...!!')\n",
    "            \n",
    "    def pick_pokemon(self):\n",
    "        if self.monsterball :\n",
    "            poke = random.choice(self.monsterball)\n",
    "            print(f'가랏! {poke.name}!!')\n",
    "        else:\n",
    "            print('포켓몬을 잡아주세요.')\n",
    "\n"
   ]
  },
  {
   "cell_type": "code",
   "execution_count": 262,
   "metadata": {},
   "outputs": [
    {
     "name": "stdout",
     "output_type": "stream",
     "text": [
      "지우은(는) 피카츄을(를) 잡았다...!!\n",
      "가랏! 피카츄!!\n"
     ]
    }
   ],
   "source": [
    "jiwoo = Trainer('지우', 100)\n",
    "pika = Pokemon('피카츄', 10)\n",
    "fire = Pokemon('파이리', 8)\n",
    "jiwoo.get_pokemon(pika)\n",
    "jiwoo.pick_pokemon()"
   ]
  },
  {
   "cell_type": "code",
   "execution_count": null,
   "metadata": {},
   "outputs": [],
   "source": []
  },
  {
   "cell_type": "code",
   "execution_count": 81,
   "metadata": {},
   "outputs": [
    {
     "name": "stdout",
     "output_type": "stream",
     "text": [
      " /$$     /$$                                     /$$     /$$                                               /$$      /$$                    \n",
      "|  $$   /$$/                                    |  $$   /$$/                                              | $$  /$ | $$                    \n",
      " \\  $$ /$$/   /$$$$$$   /$$$$$$  /$$$$$$$        \\  $$ /$$/   /$$$$$$  /$$   /$$ /$$$$$$$   /$$$$$$       | $$ /$$$| $$  /$$$$$$   /$$$$$$ \n",
      "  \\  $$$$/   /$$__  $$ /$$__  $$| $$__  $$        \\  $$$$/   /$$__  $$| $$  | $$| $$__  $$ /$$__  $$      | $$/$$ $$ $$ /$$__  $$ /$$__  $$\n",
      "   \\  $$/   | $$  \\ $$| $$  \\ $$| $$  \\ $$         \\  $$/   | $$  \\ $$| $$  | $$| $$  \\ $$| $$  \\ $$      | $$$$_  $$$$| $$  \\ $$| $$  \\ $$\n",
      "    | $$    | $$  | $$| $$  | $$| $$  | $$          | $$    | $$  | $$| $$  | $$| $$  | $$| $$  | $$      | $$$/ \\  $$$| $$  | $$| $$  | $$\n",
      "    | $$    |  $$$$$$/|  $$$$$$/| $$  | $$          | $$    |  $$$$$$/|  $$$$$$/| $$  | $$|  $$$$$$$      | $$/   \\  $$|  $$$$$$/|  $$$$$$/\n",
      "    |__/     \\______/  \\______/ |__/  |__/          |__/     \\______/  \\______/ |__/  |__/ \\____  $$      |__/     \\__/ \\______/  \\______/ \n",
      "                                                                                           /$$  \\ $$                                       \n",
      "                                                                                          |  $$$$$$/                                       \n",
      "                                                                                           \\______/                                        \n"
     ]
    }
   ],
   "source": [
    "import random\n",
    "class Pokemon:\n",
    "    print(''' /$$     /$$                                     /$$     /$$                                               /$$      /$$                    \n",
    "|  $$   /$$/                                    |  $$   /$$/                                              | $$  /$ | $$                    \n",
    " \\  $$ /$$/   /$$$$$$   /$$$$$$  /$$$$$$$        \\  $$ /$$/   /$$$$$$  /$$   /$$ /$$$$$$$   /$$$$$$       | $$ /$$$| $$  /$$$$$$   /$$$$$$ \n",
    "  \\  $$$$/   /$$__  $$ /$$__  $$| $$__  $$        \\  $$$$/   /$$__  $$| $$  | $$| $$__  $$ /$$__  $$      | $$/$$ $$ $$ /$$__  $$ /$$__  $$\n",
    "   \\  $$/   | $$  \\ $$| $$  \\ $$| $$  \\ $$         \\  $$/   | $$  \\ $$| $$  | $$| $$  \\ $$| $$  \\ $$      | $$$$_  $$$$| $$  \\ $$| $$  \\ $$\n",
    "    | $$    | $$  | $$| $$  | $$| $$  | $$          | $$    | $$  | $$| $$  | $$| $$  | $$| $$  | $$      | $$$/ \\  $$$| $$  | $$| $$  | $$\n",
    "    | $$    |  $$$$$$/|  $$$$$$/| $$  | $$          | $$    |  $$$$$$/|  $$$$$$/| $$  | $$|  $$$$$$$      | $$/   \\  $$|  $$$$$$/|  $$$$$$/\n",
    "    |__/     \\______/  \\______/ |__/  |__/          |__/     \\______/  \\______/ |__/  |__/ \\____  $$      |__/     \\__/ \\______/  \\______/ \n",
    "                                                                                           /$$  \\ $$                                       \n",
    "                                                                                          |  $$$$$$/                                       \n",
    "                                                                                           \\______/                                        ''')\n",
    "    def __init__(self, name, level):\n",
    "        self.name = name\n",
    "        self.level = level\n",
    "        self.hp = level *10 + random.choice(range(1,6))\n",
    "        \n",
    "    def set_hp(self, num):\n",
    "        self.hp += num\n",
    "        print(f'{self.name}의 체력이 {self.hp}가 되었다....!')\n",
    "        \n",
    "    def attack(self, other):\n",
    "        damage = random.randint(1, 10)\n",
    "        print(f'{self.name}이 {other.name}에게 몸통 박치기를 했다..!')\n",
    "        other.set_hp(-damage)"
   ]
  },
  {
   "cell_type": "code",
   "execution_count": 71,
   "metadata": {},
   "outputs": [],
   "source": [
    "pika = Pokemon('피카츄', 10)"
   ]
  },
  {
   "cell_type": "code",
   "execution_count": 72,
   "metadata": {},
   "outputs": [],
   "source": [
    "fire = Pokemon('파이리', 8)"
   ]
  },
  {
   "cell_type": "code",
   "execution_count": 67,
   "metadata": {},
   "outputs": [
    {
     "data": {
      "text/plain": [
       "{'name': '피카츄', 'level': 10, 'hp': 105}"
      ]
     },
     "execution_count": 67,
     "metadata": {},
     "output_type": "execute_result"
    }
   ],
   "source": [
    "pika.__dict__"
   ]
  },
  {
   "cell_type": "code",
   "execution_count": 68,
   "metadata": {},
   "outputs": [
    {
     "data": {
      "text/plain": [
       "{'name': '파이리', 'level': 8, 'hp': 85}"
      ]
     },
     "execution_count": 68,
     "metadata": {},
     "output_type": "execute_result"
    }
   ],
   "source": [
    "fire.__dict__"
   ]
  },
  {
   "cell_type": "code",
   "execution_count": 73,
   "metadata": {},
   "outputs": [
    {
     "name": "stdout",
     "output_type": "stream",
     "text": [
      "피카츄이 파이리에게 몸통 박치기를 했다..!\n",
      "파이리의 체력이 78가 되었다....!\n",
      "파이리이 피카츄에게 몸통 박치기를 했다..!\n",
      "피카츄의 체력이 96가 되었다....!\n",
      "피카츄이 파이리에게 몸통 박치기를 했다..!\n",
      "파이리의 체력이 68가 되었다....!\n",
      "파이리이 피카츄에게 몸통 박치기를 했다..!\n",
      "피카츄의 체력이 90가 되었다....!\n",
      "피카츄이 파이리에게 몸통 박치기를 했다..!\n",
      "파이리의 체력이 59가 되었다....!\n",
      "파이리이 피카츄에게 몸통 박치기를 했다..!\n",
      "피카츄의 체력이 81가 되었다....!\n",
      "피카츄이 파이리에게 몸통 박치기를 했다..!\n",
      "파이리의 체력이 56가 되었다....!\n",
      "파이리이 피카츄에게 몸통 박치기를 했다..!\n",
      "피카츄의 체력이 80가 되었다....!\n",
      "피카츄이 파이리에게 몸통 박치기를 했다..!\n",
      "파이리의 체력이 54가 되었다....!\n",
      "파이리이 피카츄에게 몸통 박치기를 했다..!\n",
      "피카츄의 체력이 70가 되었다....!\n",
      "피카츄이 파이리에게 몸통 박치기를 했다..!\n",
      "파이리의 체력이 52가 되었다....!\n",
      "파이리이 피카츄에게 몸통 박치기를 했다..!\n",
      "피카츄의 체력이 65가 되었다....!\n",
      "피카츄이 파이리에게 몸통 박치기를 했다..!\n",
      "파이리의 체력이 44가 되었다....!\n",
      "파이리이 피카츄에게 몸통 박치기를 했다..!\n",
      "피카츄의 체력이 64가 되었다....!\n",
      "피카츄이 파이리에게 몸통 박치기를 했다..!\n",
      "파이리의 체력이 34가 되었다....!\n",
      "파이리이 피카츄에게 몸통 박치기를 했다..!\n",
      "피카츄의 체력이 55가 되었다....!\n",
      "피카츄이 파이리에게 몸통 박치기를 했다..!\n",
      "파이리의 체력이 24가 되었다....!\n",
      "파이리이 피카츄에게 몸통 박치기를 했다..!\n",
      "피카츄의 체력이 52가 되었다....!\n",
      "피카츄이 파이리에게 몸통 박치기를 했다..!\n",
      "파이리의 체력이 23가 되었다....!\n",
      "파이리이 피카츄에게 몸통 박치기를 했다..!\n",
      "피카츄의 체력이 51가 되었다....!\n",
      "피카츄이 파이리에게 몸통 박치기를 했다..!\n",
      "파이리의 체력이 20가 되었다....!\n",
      "파이리이 피카츄에게 몸통 박치기를 했다..!\n",
      "피카츄의 체력이 49가 되었다....!\n",
      "피카츄이 파이리에게 몸통 박치기를 했다..!\n",
      "파이리의 체력이 12가 되었다....!\n",
      "파이리이 피카츄에게 몸통 박치기를 했다..!\n",
      "피카츄의 체력이 46가 되었다....!\n",
      "피카츄이 파이리에게 몸통 박치기를 했다..!\n",
      "파이리의 체력이 10가 되었다....!\n",
      "파이리이 피카츄에게 몸통 박치기를 했다..!\n",
      "피카츄의 체력이 43가 되었다....!\n",
      "피카츄이 파이리에게 몸통 박치기를 했다..!\n",
      "파이리의 체력이 0가 되었다....!\n",
      "파이리이 피카츄에게 몸통 박치기를 했다..!\n",
      "피카츄의 체력이 40가 되었다....!\n",
      "=====게임이 종료되었습니다=====\n"
     ]
    }
   ],
   "source": [
    "while True:\n",
    "    pika.attack(fire)\n",
    "    fire.attack(pika)\n",
    "    if pika.hp <= 0 or fire.hp <= 0:\n",
    "        print('=====게임이 종료되었습니다=====')\n",
    "        break"
   ]
  },
  {
   "cell_type": "code",
   "execution_count": null,
   "metadata": {},
   "outputs": [],
   "source": []
  },
  {
   "cell_type": "code",
   "execution_count": 11,
   "metadata": {},
   "outputs": [
    {
     "data": {
      "text/plain": [
       "2"
      ]
     },
     "execution_count": 11,
     "metadata": {},
     "output_type": "execute_result"
    }
   ],
   "source": [
    "random.randint(1, 5)"
   ]
  },
  {
   "cell_type": "code",
   "execution_count": 39,
   "metadata": {},
   "outputs": [
    {
     "data": {
      "text/plain": [
       "5"
      ]
     },
     "execution_count": 39,
     "metadata": {},
     "output_type": "execute_result"
    }
   ],
   "source": [
    "random.choice(range(1,6))"
   ]
  },
  {
   "cell_type": "code",
   "execution_count": null,
   "metadata": {},
   "outputs": [],
   "source": []
  },
  {
   "cell_type": "code",
   "execution_count": null,
   "metadata": {},
   "outputs": [],
   "source": []
  }
 ],
 "metadata": {
  "kernelspec": {
   "display_name": "Python 3",
   "language": "python",
   "name": "python3"
  },
  "language_info": {
   "codemirror_mode": {
    "name": "ipython",
    "version": 3
   },
   "file_extension": ".py",
   "mimetype": "text/x-python",
   "name": "python",
   "nbconvert_exporter": "python",
   "pygments_lexer": "ipython3",
   "version": "3.6.7"
  },
  "latex_envs": {
   "LaTeX_envs_menu_present": true,
   "autoclose": false,
   "autocomplete": true,
   "bibliofile": "biblio.bib",
   "cite_by": "apalike",
   "current_citInitial": 1,
   "eqLabelWithNumbers": true,
   "eqNumInitial": 1,
   "hotkeys": {
    "equation": "Ctrl-E",
    "itemize": "Ctrl-I"
   },
   "labels_anchors": false,
   "latex_user_defs": false,
   "report_style_numbering": false,
   "user_envs_cfg": false
  },
  "toc": {
   "base_numbering": 1,
   "nav_menu": {},
   "number_sections": true,
   "sideBar": true,
   "skip_h1_title": false,
   "title_cell": "Table of Contents",
   "title_sidebar": "Contents",
   "toc_cell": false,
   "toc_position": {},
   "toc_section_display": true,
   "toc_window_display": false
  }
 },
 "nbformat": 4,
 "nbformat_minor": 2
}
