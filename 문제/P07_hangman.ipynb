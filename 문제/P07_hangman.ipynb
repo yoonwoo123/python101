{
 "cells": [
  {
   "cell_type": "markdown",
   "metadata": {},
   "source": [
    "# 행맨 게임 만들기 "
   ]
  },
  {
   "cell_type": "markdown",
   "metadata": {},
   "source": [
    "## 답안 확인 하기\n",
    "\n",
    "> 행맨 게임을 위한 코드를 작성해봅시다. \n",
    ">\n",
    "> `isanswer(secret, letters)`는 정답(answer)과 추측 알파벳의 리스트(letters)를 받아서, True/False 결과를 나타냅니다.\n",
    "\n",
    "```\n",
    "예시) \n",
    "isanswer('apple', ['a', 'p', 'l'])\n",
    "\n",
    "False\n",
    "```"
   ]
  },
  {
   "cell_type": "code",
   "execution_count": 1,
   "metadata": {
    "scrolled": true
   },
   "outputs": [],
   "source": [
    "# 여기에 코드를 작성해주세요\n",
    "def isanswer(answer, letters):\n",
    "    blank =[]\n",
    "    for char in answer:\n",
    "        if char not in blank:\n",
    "            blank.append(char)    \n",
    "    if blank == letters:\n",
    "        return True\n",
    "    else:\n",
    "        return False"
   ]
  },
  {
   "cell_type": "code",
   "execution_count": 2,
   "metadata": {},
   "outputs": [],
   "source": [
    "# 강사님 코드\n",
    "def isanswer(answer, letters):\n",
    "    return not (set(answer) - set(letters)) # 원소 하나라도 있으면 True니까 뒤집으면 False 출력 깔끔하다."
   ]
  },
  {
   "cell_type": "code",
   "execution_count": 10,
   "metadata": {},
   "outputs": [
    {
     "data": {
      "text/plain": [
       "False"
      ]
     },
     "execution_count": 10,
     "metadata": {},
     "output_type": "execute_result"
    }
   ],
   "source": [
    "isanswer('apple', ['a', 'p', 'l'])"
   ]
  },
  {
   "cell_type": "code",
   "execution_count": 11,
   "metadata": {},
   "outputs": [
    {
     "data": {
      "text/plain": [
       "True"
      ]
     },
     "execution_count": 11,
     "metadata": {},
     "output_type": "execute_result"
    }
   ],
   "source": [
    "isanswer('apple', ['a', 'p', 'l', 'e'])"
   ]
  },
  {
   "cell_type": "markdown",
   "metadata": {},
   "source": [
    "## 현재 상태 출력하기\n",
    "\n",
    "> 행맨 게임을 위한 코드를 작성해봅시다. \n",
    ">\n",
    "> `status(answer, letters)`는 정답(answer)과 추측 알파벳의 리스트(letters)를 받아서, 현재 결과를 나타냅니다.\n",
    "\n",
    "```\n",
    "예시)\n",
    "status('apple', ['a', 'p', 'l'])\n",
    "\n",
    "'appl_'\n",
    "```"
   ]
  },
  {
   "cell_type": "code",
   "execution_count": 9,
   "metadata": {},
   "outputs": [],
   "source": [
    "# 여기에 코드를 작성해주세요\n",
    "# 1. 들어온 알파벳 letters를 검사해서 그 알파벳이 in answer 이면 \n",
    "# 2. answer 배열을 a, p, p, l, e 로 빈리스트에 넣어준 후 a,p,l 과 비교해서 없는 문자를 replace(없는문자, _) 해준다.\n",
    "def status(answer, letters):\n",
    "    for i in answer:\n",
    "        if i not in letters:\n",
    "            answer = answer.replace(i, ' _')\n",
    "    return answer"
   ]
  },
  {
   "cell_type": "code",
   "execution_count": 12,
   "metadata": {},
   "outputs": [
    {
     "data": {
      "text/plain": [
       "'appl _'"
      ]
     },
     "execution_count": 12,
     "metadata": {},
     "output_type": "execute_result"
    }
   ],
   "source": [
    "status('apple', ['a', 'p', 'l'])"
   ]
  },
  {
   "cell_type": "markdown",
   "metadata": {},
   "source": [
    "## 행맨 로직 만들기 - 자유코딩!\n",
    "\n",
    "> 위의 함수를 활용하여 `hangman(answer)`를 만들어봅시다!\n",
    ">\n",
    "> 사용자가 답을 맞출 때까지 진행하며, 8번내로 정답을 맞춰야 합니다.\n",
    "\n",
    "추가적인 함수를 만들어도 좋습니다! 완성하신 분들은 옆사람이랑 게임을 진행해봅시다 :)"
   ]
  },
  {
   "cell_type": "code",
   "execution_count": 17,
   "metadata": {},
   "outputs": [],
   "source": [
    "# 여기에 코드를 작성해주세요\n",
    "# 1. 행맨 게임을 만드려면 일단 남은 시도도 출력되어야하고 넣은 값이 맞은 경우 저장도 되야한다.\n",
    "# 2. 그리고 맞췄을 때 여러개가 있을 경우 그 여러개가 전부 출력 되야한다.\n",
    "# 3. 남은 횟수가 0이 되거나 맞춘경우 while을 빠져나온다.\n",
    "\n",
    "def hangman(answer):\n",
    "    attempt = 8\n",
    "    letters = []\n",
    "    print('행맨 게임을 시작해봅시다!')\n",
    "    print(f'남은 시도 {attempt}')\n",
    "    while True:\n",
    "        char = input('알파벳 1개를 입력하세요.: ')\n",
    "        if isanswer(answer, char):\n",
    "            print('짝짝짝 맞췄습니다.')\n",
    "            break\n",
    "        if char in answer: \n",
    "            print(f'맞췄습니다! {answer.count(char)}개가 있네요.')\n",
    "            letters.append(char)\n",
    "            print(status(answer, letters))\n",
    "            print(f'남은 시도 {attempt}')\n",
    "        elif char not in answer and char.isalpha()==True and len(char)==1:\n",
    "            print(f'땡!')\n",
    "            print(status(answer, letters))\n",
    "            attempt -= 1\n",
    "            print(f'남은 시도 {attempt}')\n",
    "    \n",
    "        if len(char) > 1 or char.isalpha() == False:\n",
    "            print('알파벳으로 1개만 입력하라고!')\n",
    "        \n",
    "        \n",
    "        if isanswer(answer, letters):\n",
    "            print('짝짝짝 맞췄습니다.')\n",
    "            break\n",
    "        if attempt == 0:\n",
    "            break\n",
    "        \n",
    "#         elif status == answer:\n",
    "#             break\n",
    "    print('게임 끝')    \n",
    "        #if 알파벳 2개 이상 혹은 .isalpha() == False 라면 print('알파벳으로 1개만 입력하라고!')"
   ]
  },
  {
   "cell_type": "code",
   "execution_count": 15,
   "metadata": {},
   "outputs": [
    {
     "name": "stdout",
     "output_type": "stream",
     "text": [
      "행맨 게임을 시작해봅시다!\n",
      "남은 시도 8\n",
      "알파벳 1개를 입력하세요.: so\n",
      "맞췄습니다! 1개가 있네요.\n",
      " _ _ _ _ _ _ _ _\n",
      "남은 시도 7\n",
      "알파벳으로 1개만 입력하라고!\n",
      "알파벳 1개를 입력하세요.: s\n",
      "맞췄습니다! 1개가 있네요.\n",
      "s _ _ _ _ _ _ _\n",
      "남은 시도 6\n",
      "알파벳 1개를 입력하세요.: f\n",
      "맞췄습니다! 1개가 있네요.\n",
      "s _f _ _ _ _ _\n",
      "남은 시도 5\n",
      "알파벳 1개를 입력하세요.: software\n",
      "맞췄습니다! 1개가 있네요.\n",
      "s _f _ _ _ _ _\n",
      "남은 시도 4\n",
      "짝짝짝 맞췄습니다.\n",
      "게임 끝\n"
     ]
    }
   ],
   "source": [
    "# 행맨 게임을 시작해봅시다!\n",
    "hangman('software')"
   ]
  },
  {
   "cell_type": "code",
   "execution_count": 39,
   "metadata": {},
   "outputs": [
    {
     "name": "stdout",
     "output_type": "stream",
     "text": [
      "알파벳 1개를 입력하세요.: 1\n"
     ]
    }
   ],
   "source": [
    "start = input('알파벳 1개를 입력하세요.: ')"
   ]
  },
  {
   "cell_type": "code",
   "execution_count": null,
   "metadata": {},
   "outputs": [],
   "source": []
  },
  {
   "cell_type": "code",
   "execution_count": null,
   "metadata": {},
   "outputs": [],
   "source": []
  },
  {
   "cell_type": "code",
   "execution_count": null,
   "metadata": {},
   "outputs": [],
   "source": []
  },
  {
   "cell_type": "code",
   "execution_count": null,
   "metadata": {},
   "outputs": [],
   "source": []
  },
  {
   "cell_type": "code",
   "execution_count": null,
   "metadata": {},
   "outputs": [],
   "source": []
  },
  {
   "cell_type": "code",
   "execution_count": null,
   "metadata": {},
   "outputs": [],
   "source": []
  },
  {
   "cell_type": "code",
   "execution_count": null,
   "metadata": {},
   "outputs": [],
   "source": []
  },
  {
   "cell_type": "code",
   "execution_count": null,
   "metadata": {},
   "outputs": [],
   "source": []
  },
  {
   "cell_type": "code",
   "execution_count": null,
   "metadata": {},
   "outputs": [],
   "source": []
  },
  {
   "cell_type": "code",
   "execution_count": null,
   "metadata": {},
   "outputs": [],
   "source": []
  },
  {
   "cell_type": "code",
   "execution_count": null,
   "metadata": {},
   "outputs": [],
   "source": []
  },
  {
   "cell_type": "code",
   "execution_count": null,
   "metadata": {},
   "outputs": [],
   "source": []
  },
  {
   "cell_type": "code",
   "execution_count": null,
   "metadata": {},
   "outputs": [],
   "source": []
  },
  {
   "cell_type": "code",
   "execution_count": null,
   "metadata": {},
   "outputs": [],
   "source": []
  },
  {
   "cell_type": "code",
   "execution_count": null,
   "metadata": {},
   "outputs": [],
   "source": []
  },
  {
   "cell_type": "code",
   "execution_count": null,
   "metadata": {},
   "outputs": [],
   "source": []
  },
  {
   "cell_type": "code",
   "execution_count": null,
   "metadata": {},
   "outputs": [],
   "source": []
  }
 ],
 "metadata": {
  "kernelspec": {
   "display_name": "Python 3",
   "language": "python",
   "name": "python3"
  },
  "language_info": {
   "codemirror_mode": {
    "name": "ipython",
    "version": 3
   },
   "file_extension": ".py",
   "mimetype": "text/x-python",
   "name": "python",
   "nbconvert_exporter": "python",
   "pygments_lexer": "ipython3",
   "version": "3.6.7"
  },
  "latex_envs": {
   "LaTeX_envs_menu_present": true,
   "autoclose": false,
   "autocomplete": true,
   "bibliofile": "biblio.bib",
   "cite_by": "apalike",
   "current_citInitial": 1,
   "eqLabelWithNumbers": true,
   "eqNumInitial": 1,
   "hotkeys": {
    "equation": "Ctrl-E",
    "itemize": "Ctrl-I"
   },
   "labels_anchors": false,
   "latex_user_defs": false,
   "report_style_numbering": false,
   "user_envs_cfg": false
  },
  "toc": {
   "base_numbering": 1,
   "nav_menu": {},
   "number_sections": true,
   "sideBar": true,
   "skip_h1_title": false,
   "title_cell": "Table of Contents",
   "title_sidebar": "Contents",
   "toc_cell": false,
   "toc_position": {},
   "toc_section_display": true,
   "toc_window_display": false
  }
 },
 "nbformat": 4,
 "nbformat_minor": 2
}
