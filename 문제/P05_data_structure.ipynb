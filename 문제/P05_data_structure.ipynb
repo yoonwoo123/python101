{
 "cells": [
  {
   "cell_type": "markdown",
   "metadata": {},
   "source": [
    "# 메소드 없는 세상 <1>\n",
    "\n",
    "> 알파벳으로 이뤄진 word를 입력받아 알파벳 대소문자를 서로 교환한 결과를 반환하는 `my_swapcase(word)`를 작성해주세요.\n",
    "\n",
    "**`.upper()`, `.lower()`, `swapcase()`는 사용하지 말아주세요.**\n",
    "\n",
    "**Tip! 문자와 숫자에는 특별한 관계가 있습니다. Google에서 아스키 코드를 참고하세요**\n"
   ]
  },
  {
   "cell_type": "code",
   "execution_count": 51,
   "metadata": {},
   "outputs": [],
   "source": [
    "# 아래에 코드를 작성해주세요.\n",
    "# 1. 아스키코드 파이썬을 이용해서 문자를 숫자로 숫자를 문자로바꿀수있다.\n",
    "# 2. 따라서 문자를 만났을 때 그 문자를 숫자로 변경한후 그 숫자가\n",
    "# 3. 대문자 범위에 있다면 대문자 소문자 범위에 있다면 소문자.\n",
    "# 4. 그 둘을 바꿔준후 반환\n",
    "def my_swapcase(word):\n",
    "    result = []\n",
    "    for char in word:\n",
    "        if 65 <= ord(char) <= 90:\n",
    "            result.append(chr(ord(char)+32))\n",
    "        elif 97<= ord(char) <=122:\n",
    "            result.append(chr(ord(char)-32))\n",
    "        else:\n",
    "            result.append(char)                \n",
    "    return ''.join(result)"
   ]
  },
  {
   "cell_type": "code",
   "execution_count": 52,
   "metadata": {},
   "outputs": [
    {
     "name": "stdout",
     "output_type": "stream",
     "text": [
      "HELLO, wORLD!\n",
      "@_@\n",
      "2^3은 8이다!\n"
     ]
    }
   ],
   "source": [
    "print(my_swapcase('hello, World!')) # HELLO, wORLD!\n",
    "print(my_swapcase('@_@')) # @_@\n",
    "print(my_swapcase('2^3은 8이다!')) #2^3은 8이다!"
   ]
  },
  {
   "cell_type": "code",
   "execution_count": 45,
   "metadata": {},
   "outputs": [
    {
     "name": "stdout",
     "output_type": "stream",
     "text": [
      "H\n"
     ]
    }
   ],
   "source": [
    "print(chr(ord('h')-32))"
   ]
  },
  {
   "cell_type": "markdown",
   "metadata": {},
   "source": [
    "# 메소드 없는 세상 <2>\n",
    "\n",
    "> 우리는 문자열을 만들어 나갈 때, `.join(iterable)` 함수를 사용합니다. \n",
    ">\n",
    "> `.join(iterable)`이 생각나지 않을 때를 위해 직접 만들어보면서 감사함을 느껴봅시다.\n",
    ">\n",
    "> `my_join(target, word)`를 만들어 문자열을 반환해주세요.\n",
    ">\n",
    "> target은 바꿀 대상(iterable)이며, word는 합쳐지는 단어입니다. \n",
    "\n",
    "---\n",
    "\n",
    "```\n",
    "예시)\n",
    "''.join(a) 와 my_join(a, '')은 같은 함수 호출입니다.\n",
    "\n",
    "print(my_join('배고파', '.'))\n",
    "print(my_join(['1', '2', '3'], ''))\n",
    "\n",
    "배.고.파\n",
    "123\n",
    "```"
   ]
  },
  {
   "cell_type": "code",
   "execution_count": 56,
   "metadata": {},
   "outputs": [],
   "source": [
    "# 아래에 코드를 작성해주세요.\n",
    "# 1. target 사이에 word가 들어가야된다.\n",
    "# 2. str(target)+ str(word) 를 반복하면 되지 않을까?\n",
    "def my_join(target, word):\n",
    "    result = ''\n",
    "    for i in target:\n",
    "        result += str(i) + str(word)\n",
    "    return result"
   ]
  },
  {
   "cell_type": "code",
   "execution_count": 57,
   "metadata": {},
   "outputs": [
    {
     "name": "stdout",
     "output_type": "stream",
     "text": [
      "배.고.파.\n",
      "123\n"
     ]
    }
   ],
   "source": [
    "print(my_join('배고파', '.'))\n",
    "print(my_join(['1', '2', '3'], ''))"
   ]
  },
  {
   "cell_type": "markdown",
   "metadata": {},
   "source": [
    "#  가능한 적게 변경하기\n",
    "\n",
    "> 대문자와 소문자가 혼합되어 있는 문자열어 주어지며\n",
    ">\n",
    "> 다음의 기준에 따라서 문자열을 소문자 혹은 대문자로 변환하세요.\n",
    "\n",
    "\n",
    "*  가능한 적게 변경하세요.\n",
    "*  만약에 문자열의 대문자 혹은 소문자가 같다면, 문자열을 소문자로 변경하세요.\n",
    "\n",
    "--- \n",
    "\n",
    "```\n",
    "예시 입력) \n",
    "solve(\"coDe\")\n",
    "solve(\"CODe\")\n",
    "solve(\"coDE\")\n",
    "\n",
    "예시 출력)\n",
    "\"code\"\n",
    "\"CODE\"\n",
    "\"code\"\n",
    "```"
   ]
  },
  {
   "cell_type": "code",
   "execution_count": 61,
   "metadata": {},
   "outputs": [],
   "source": [
    "# 아래에 코드를 작성해주세요.\n",
    "def solve(word):\n",
    "    result = []\n",
    "    big = []\n",
    "    small = []\n",
    "    for char in word:\n",
    "        if 65 <= ord(char) <= 90:\n",
    "            big.append(char)\n",
    "        elif 97<= ord(char) <=122:\n",
    "            small.append(char)\n",
    "    if len(big) > len(small):\n",
    "        return word.upper()\n",
    "    elif len(big) < len(small):\n",
    "        return word.lower()\n",
    "    return word\n",
    "\n",
    "# isupper 와 islower 는 대문자와 소문자 개수를 세준다."
   ]
  },
  {
   "cell_type": "code",
   "execution_count": 62,
   "metadata": {},
   "outputs": [
    {
     "name": "stdout",
     "output_type": "stream",
     "text": [
      "code\n",
      "CODE\n",
      "coDE\n"
     ]
    }
   ],
   "source": [
    "print(solve(\"coDe\"))\n",
    "print(solve(\"CODe\"))\n",
    "print(solve(\"coDE\"))"
   ]
  },
  {
   "cell_type": "markdown",
   "metadata": {},
   "source": [
    "# 숨바꼭질\n",
    "\n",
    "> 숫자가 주어지면, 사용되지 않은 숫자를 프린트하세요.\n",
    "\n",
    "---\n",
    "\n",
    "```\n",
    "예시)\n",
    "unused_digits(12, 34, 56, 78) \n",
    "\"09\"\n",
    "\n",
    "unused_digits(2015, 8, 26) \n",
    "\"3479\"\n",
    "```\n",
    "\n",
    "\n",
    "**결과값은 정렬되어야 합니다.**\n",
    "\n"
   ]
  },
  {
   "cell_type": "code",
   "execution_count": 339,
   "metadata": {},
   "outputs": [],
   "source": [
    "# 아래에 코드를 작성해주세요.\n",
    "# 1. 0~9 모든 숫자 배열을 만든다.\n",
    "# 2. 사용되지 않은 숫자를 찾으려면 내가 검사하는 배열을 모두 digit와 비교한다\n",
    "# 3. num이 digit에 포 않으면 같지 않은 값을 빈리스트에 넣는다.\n",
    "def unused_digits(*numbers):\n",
    "    digit = [0,1,2,3,4,5,6,7,8,9]\n",
    "    blank = []\n",
    "    a = []\n",
    "    for num in ''.join(map(str, numbers)):\n",
    "        a.append(num)\n",
    "    for x in digit:\n",
    "        if x not in list(map(int,a)):\n",
    "            blank.append(x)\n",
    "    return blank"
   ]
  },
  {
   "cell_type": "code",
   "execution_count": 340,
   "metadata": {},
   "outputs": [
    {
     "name": "stdout",
     "output_type": "stream",
     "text": [
      "[0, 9]\n",
      "[3, 4, 7, 9]\n"
     ]
    }
   ],
   "source": [
    "print(unused_digits(12, 34, 56, 78))\n",
    "print(unused_digits(2015, 8, 26))"
   ]
  },
  {
   "cell_type": "code",
   "execution_count": 162,
   "metadata": {},
   "outputs": [
    {
     "name": "stdout",
     "output_type": "stream",
     "text": [
      "12345678\n",
      "[1, 2, 3, 4, 5, 6, 7, 8]\n"
     ]
    }
   ],
   "source": [
    "numbers = (12, 34, 56, 78)\n",
    "digit = [0,1,2,3,4,5,6,7,8,9]\n",
    "print(''.join(map(str,numbers)))\n",
    "a = []\n",
    "for num in ''.join(map(str, numbers)):\n",
    "    a.append(num)\n",
    "print(list(map(int,a)))\n",
    "# for i in ''.join(map(str,numbers)):\n",
    "#     print(i)\n",
    "# set('0123456') >> {'0','1','2'...'6'} 으로 나눌수 있다.\n",
    "# list('0123456') 또한 ['0','1'...] 로 나눌수있다."
   ]
  },
  {
   "cell_type": "code",
   "execution_count": 341,
   "metadata": {},
   "outputs": [],
   "source": [
    "def unused_digits(*numbers):\n",
    "    result = set('0123456789')\n",
    "    for x in numbers:\n",
    "        result -= set(str(x)) # result set 에서 set(str(x))을 차집합 해준것.\n",
    "    return ''.join(sorted(result))"
   ]
  },
  {
   "cell_type": "markdown",
   "metadata": {},
   "source": [
    "# 짝홀짝홀"
   ]
  },
  {
   "cell_type": "markdown",
   "metadata": {},
   "source": [
    "> n개의 양의 정수 리스트가 주어지면, 홀수와 짝수를 분리하고 각각의 조건에 맞게 홀수와 짝수를 \n",
    "정렬하세요.\n",
    "\n",
    "> 조건\n",
    "1. 짝수와 홀수가 번갈아 가면서 나오게 됩니다.\n",
    "2. 짝수는 오름차순으로 홀수는 내림차순으로 되어야합니다.\n",
    "\n",
    "> 인자 조건\n",
    "1. 인자 리스트의 크기는 적어도 4이상입니다.\n",
    "2. 인자 리스트의 요소값으로 0은 존재하지 않습니다.\n",
    "3. 인자 리스트의 요소값이 반복될 수 있으나 출력할 때는 중복 값이 없습니다.\n",
    "\n",
    "```\n",
    "결과) \n",
    "\n",
    "even_and_odd([7, 3 , 14 , 17])\n",
    "[14, 17, 7, 3]\n",
    "\n",
    "even_and_odd([1, 3, 5, 7, 9, 11])\n",
    "[11, 9, 7, 5, 3, 1]\n",
    "\n",
    "print(even_and_odd([1, 2, 2, 4, 4, 6, 6, 2004, 9, 11]))\n",
    "[2, 11, 4, 6, 2004]\n",
    "```"
   ]
  },
  {
   "cell_type": "code",
   "execution_count": 1,
   "metadata": {},
   "outputs": [],
   "source": [
    "# 여기에 코드를 작성하세요\n",
    "# 1. 짝수 먼저 홀수 먼저 순으로 정렬해야한다. ex str(짝수) + str(홀수)\n",
    "# 1-2. 번갈아서 나오려면 짝수의 첫번째 값을 넣고 -> 홀수의 첫번째 값 넣고 -> 짝수 2번째\n",
    "# 1-3. 중간에 리스트 값이 모두 나오면 그쪽반복은 그만한다.\n",
    "# 2. 짝수는 커지는 순 홀수는 작아지는 내림차순으로 나와야한다.\n",
    "# 3  인자 리스트의 크기는 4이상입니다. len(numbers) >= 4\n",
    "# 4. 리스트의 요소값은 0이 없다.\n",
    "# 5. 요소값이 반복될 수 있으나 중복으로 안나온다.\n",
    "\n",
    "def even_and_odd(numbers):\n",
    "    odd = []\n",
    "    even = []\n",
    "    total = []\n",
    "    realtotal =[]\n",
    "    for num in numbers:\n",
    "        if num %2 ==1 and num not in odd:\n",
    "            odd.append(num)\n",
    "            \n",
    "        elif num %2 ==0 and num not in even:\n",
    "            even.append(num)\n",
    "    # 여기까지 짝수와 홀수 분류\n",
    "    \n",
    "    even= list(sorted(even))\n",
    "    odd = list(sorted(odd))\n",
    "    odd = odd[::-1]\n",
    "    # 짝수와 홀수를 오름 내림차순으로 정렬\n",
    "    \n",
    "    if len(odd)>len(even):\n",
    "        while(len(odd)!=len(even)):\n",
    "            even.append(0)\n",
    "    else:\n",
    "        while(len(odd)!=len(even)):\n",
    "            odd.append(0)\n",
    "    # ragne의 범위가 다르므로 0을 넣어줘서 길이를 맞춰줌\n",
    "    \n",
    "    for i in range(len(odd)) :\n",
    "        total.append(even[i])\n",
    "        total.append(odd[i])\n",
    "    for ele in total:\n",
    "        if ele != 0:\n",
    "            realtotal.append(ele)\n",
    "    return realtotal\n",
    "    # 마지막으로 들어간 0을 없애주기 위해 빈리스트 realtotal에 최종적으로 모아줌"
   ]
  },
  {
   "cell_type": "code",
   "execution_count": null,
   "metadata": {},
   "outputs": [],
   "source": [
    "# 강사님 코드\n",
    "def even_and_odd(numbers):\n",
    "    even = [i for i in sorted(set(numbers)) if not i % 2]\n",
    "    odd = [i for i in sorted(set(numbers)) if i %2]"
   ]
  },
  {
   "cell_type": "code",
   "execution_count": null,
   "metadata": {},
   "outputs": [],
   "source": [
    "# 강사님 아이디어\n",
    "a = [1, 2, 5, 6, 7]\n",
    "b = [1, 3]\n",
    "a[:2]\n",
    "a[2:]\n",
    "\n",
    "[1, 2], [5, 6, 7]\n",
    "[1, 3]"
   ]
  },
  {
   "cell_type": "code",
   "execution_count": 2,
   "metadata": {},
   "outputs": [
    {
     "name": "stdout",
     "output_type": "stream",
     "text": [
      "[14, 17, 7, 3]\n",
      "[11, 9, 7, 5, 3, 1]\n",
      "[2, 11, 4, 9, 6, 1, 2004]\n"
     ]
    }
   ],
   "source": [
    "print(even_and_odd([7, 3, 14, 17]))\n",
    "print(even_and_odd([1, 3, 5, 7, 9, 11]))\n",
    "print(even_and_odd([1, 2, 2, 4, 4, 6, 6, 2004, 9, 11]))"
   ]
  },
  {
   "cell_type": "markdown",
   "metadata": {},
   "source": [
    "# 문자열 계산하기\n",
    "\n",
    "> 아래와 같이 문자열이 주어졌을 때, 바보같은 사용자를 위해 계산을 해주려고 한다.\n",
    ">\n",
    "> 이 계산기는 더하기와 빼기밖에 못한다.\n",
    ">\n",
    "> `calc(equation)`을 만들어봅시다.\n",
    "\n",
    "---\n",
    "\n",
    "```\n",
    "예시\n",
    "calc('123+2-124')\n",
    "1\n",
    "calc('-12+12-7979+9191')\n",
    "1212\n",
    "calc('+1-1+1-1+1-1+1-1+1-1+1-1+1-1+1-1+1-1+1-1+1-1+1-1+1-1+1-1+1-1+1-1')\n",
    "0\n",
    "```"
   ]
  },
  {
   "cell_type": "code",
   "execution_count": 335,
   "metadata": {},
   "outputs": [],
   "source": [
    "# 여기에 코드를 작성하세요\n",
    "# 1. +,-는 뒤의 숫자와 붙어서 다녀야 계산하기 편하다\n",
    "# 2. +가 안붙어있는 맨앞 숫자는 어떻게 해결해야할까?\n",
    "# 3. str인 상태이므로 int로 바꾼후 모두 더해주면 된다.\n",
    "def calc(numbers):\n",
    "    digit = []\n",
    "    result = []\n",
    "    op = []\n",
    "    total =[]\n",
    "    if numbers[0].isdecimal() == True:\n",
    "            op.append('+')\n",
    "    # 첫 배열이 숫자라면 + 기호를 삽입\n",
    "    for num in numbers:\n",
    "        if num.isdecimal() == True:\n",
    "            digit.append(num)\n",
    "            if num == numbers[-1]:\n",
    "                result.append(''.join(digit))\n",
    "        elif num.isdecimal() == False:\n",
    "            result.append(''.join(digit))\n",
    "            digit= []\n",
    "            op.append(num)\n",
    "    # 숫자와 문자를 각 배열에 넣어줌\n",
    "#     for i in range(len(op)) :\n",
    "#         total.append(op[i]+result[i])\n",
    "#     return digit\n",
    "    return result"
   ]
  },
  {
   "cell_type": "code",
   "execution_count": 342,
   "metadata": {},
   "outputs": [],
   "source": [
    "# 동민형 아이디어\n",
    "def calc(a):\n",
    "    a=a.replace('+',' +')\n",
    "    a=a.replace('-',' -')\n",
    "    num=(map(int,a.split()))\n",
    "    return (sum(num))"
   ]
  },
  {
   "cell_type": "code",
   "execution_count": 361,
   "metadata": {},
   "outputs": [],
   "source": [
    "# 강사님 아이디어\n",
    "def calc(equation):\n",
    "    tmp =''\n",
    "    result = 0\n",
    "    for char in equation:\n",
    "        \n",
    "        if tmp and not char.isdecimal():\n",
    "            result += int(tmp)\n",
    "            tmp = ''\n",
    "        tmp += char\n",
    "    return result + int(tmp) # 내 방식과 비슷한데 마지막 부분이 더해지지 않기 때문에 int(tmp) 로 따로 더해주었다."
   ]
  },
  {
   "cell_type": "code",
   "execution_count": 362,
   "metadata": {},
   "outputs": [
    {
     "name": "stdout",
     "output_type": "stream",
     "text": [
      "1\n",
      "1212\n",
      "0\n"
     ]
    }
   ],
   "source": [
    "print(calc('123+2-124'))\n",
    "print(calc('-12+12-7979+9191'))\n",
    "print(calc('+1-1+1-1+1-1+1-1+1-1+1-1+1-1+1-1+1-1+1-1+1-1+1-1+1-1+1-1+1-1+1-1'))"
   ]
  },
  {
   "cell_type": "code",
   "execution_count": 277,
   "metadata": {},
   "outputs": [
    {
     "name": "stdout",
     "output_type": "stream",
     "text": [
      "음수가아닙니다.\n",
      "12\n"
     ]
    },
    {
     "data": {
      "text/plain": [
       "int"
      ]
     },
     "execution_count": 277,
     "metadata": {},
     "output_type": "execute_result"
    }
   ],
   "source": [
    "a = '+12'\n",
    "a= int(a)\n",
    "if a<0:\n",
    "    print(a)\n",
    "else:\n",
    "    print('음수가아닙니다.')\n",
    "print(a)\n",
    "type(a)"
   ]
  },
  {
   "cell_type": "code",
   "execution_count": 281,
   "metadata": {},
   "outputs": [
    {
     "name": "stdout",
     "output_type": "stream",
     "text": [
      "1212\n"
     ]
    }
   ],
   "source": [
    "a = -12\n",
    "b = 12\n",
    "c = -7979\n",
    "d = +9191\n",
    "print(a+b+c+d)"
   ]
  }
 ],
 "metadata": {
  "kernelspec": {
   "display_name": "Python 3",
   "language": "python",
   "name": "python3"
  },
  "language_info": {
   "codemirror_mode": {
    "name": "ipython",
    "version": 3
   },
   "file_extension": ".py",
   "mimetype": "text/x-python",
   "name": "python",
   "nbconvert_exporter": "python",
   "pygments_lexer": "ipython3",
   "version": "3.6.7"
  },
  "latex_envs": {
   "LaTeX_envs_menu_present": true,
   "autoclose": false,
   "autocomplete": true,
   "bibliofile": "biblio.bib",
   "cite_by": "apalike",
   "current_citInitial": 1,
   "eqLabelWithNumbers": true,
   "eqNumInitial": 1,
   "hotkeys": {
    "equation": "Ctrl-E",
    "itemize": "Ctrl-I"
   },
   "labels_anchors": false,
   "latex_user_defs": false,
   "report_style_numbering": false,
   "user_envs_cfg": false
  },
  "toc": {
   "base_numbering": 1,
   "nav_menu": {},
   "number_sections": true,
   "sideBar": true,
   "skip_h1_title": false,
   "title_cell": "Table of Contents",
   "title_sidebar": "Contents",
   "toc_cell": false,
   "toc_position": {},
   "toc_section_display": true,
   "toc_window_display": false
  }
 },
 "nbformat": 4,
 "nbformat_minor": 2
}
