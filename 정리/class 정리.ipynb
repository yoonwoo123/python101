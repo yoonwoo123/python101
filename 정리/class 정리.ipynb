{
 "cells": [
  {
   "cell_type": "markdown",
   "metadata": {},
   "source": [
    "1. 인스턴스 메서드 : 첫번째 인자로 인스턴스 객체를 전달함. (self)\n",
    "2. 클래스 메서드 : 첫번째 인자로 클래스 객체를 전달함. (cls)\n",
    "3. 정적 메서드 : 인자로 어떠한 객체도 전달하지 않음."
   ]
  },
  {
   "cell_type": "code",
   "execution_count": 16,
   "metadata": {},
   "outputs": [],
   "source": [
    "class Person:\n",
    "    title = \"사람입니다.\"\n",
    "    \n",
    "    def __init__(self, name, age):\n",
    "        self.name = name\n",
    "        self.age = age\n",
    "        \n",
    "    def instance_method(self):\n",
    "        print(self)\n",
    "        print(f'{self.name}')\n",
    "    \n",
    "    def greeting(self):\n",
    "        print(self)\n",
    "        print('안녕?!')\n",
    "    \n",
    "    @staticmethod\n",
    "    def static_method(nothing):\n",
    "        print(nothing)\n",
    "        \n",
    "    @classmethod\n",
    "    def class_method(cls):\n",
    "        print(cls)\n",
    "        print(f'{cls.title}')"
   ]
  },
  {
   "cell_type": "code",
   "execution_count": 3,
   "metadata": {},
   "outputs": [],
   "source": [
    "p1 = Person('이재찬', 25)"
   ]
  },
  {
   "cell_type": "code",
   "execution_count": 17,
   "metadata": {},
   "outputs": [
    {
     "data": {
      "text/plain": [
       "mappingproxy({'__module__': '__main__',\n",
       "              'title': '사람입니다.',\n",
       "              '__init__': <function __main__.Person.__init__(self, name, age)>,\n",
       "              'instance_method': <function __main__.Person.instance_method(self)>,\n",
       "              'greeting': <function __main__.Person.greeting(self)>,\n",
       "              'static_method': <staticmethod at 0x1d32fe13a20>,\n",
       "              'class_method': <classmethod at 0x1d32fe13a58>,\n",
       "              '__dict__': <attribute '__dict__' of 'Person' objects>,\n",
       "              '__weakref__': <attribute '__weakref__' of 'Person' objects>,\n",
       "              '__doc__': None})"
      ]
     },
     "execution_count": 17,
     "metadata": {},
     "output_type": "execute_result"
    }
   ],
   "source": [
    "Person.__dict__"
   ]
  },
  {
   "cell_type": "code",
   "execution_count": 18,
   "metadata": {},
   "outputs": [
    {
     "data": {
      "text/plain": [
       "{'name': '이재찬', 'age': 25}"
      ]
     },
     "execution_count": 18,
     "metadata": {},
     "output_type": "execute_result"
    }
   ],
   "source": [
    "p1.__dict__"
   ]
  },
  {
   "cell_type": "code",
   "execution_count": 19,
   "metadata": {},
   "outputs": [
    {
     "name": "stdout",
     "output_type": "stream",
     "text": [
      "<__main__.Person object at 0x000001D32FD67208>\n",
      "<__main__.Person object at 0x000001D32FD67208>\n"
     ]
    }
   ],
   "source": [
    "# 인스턴스 메서드는 인스턴스 객체를 인자로 넘겨준다. (자동으로)\n",
    "p1.instance_method()\n",
    "print(p1)"
   ]
  },
  {
   "cell_type": "code",
   "execution_count": 20,
   "metadata": {},
   "outputs": [
    {
     "name": "stdout",
     "output_type": "stream",
     "text": [
      "<class '__main__.Person'>\n",
      "사람입니다.\n",
      "<class '__main__.Person'>\n"
     ]
    }
   ],
   "source": [
    "# 클래스 메서드는 클래스 객체를 인자로 넘겨준다.\n",
    "Person.class_method()\n",
    "print(Person)"
   ]
  },
  {
   "cell_type": "code",
   "execution_count": 21,
   "metadata": {},
   "outputs": [
    {
     "name": "stdout",
     "output_type": "stream",
     "text": [
      "hi!!\n"
     ]
    }
   ],
   "source": [
    "# 스태틱 메서드는 어떠한 인자도 자동으로 넘겨주지 않는다. ( 직접 입력 )\n",
    "Person.static_method('hi!!')"
   ]
  },
  {
   "cell_type": "code",
   "execution_count": 22,
   "metadata": {},
   "outputs": [
    {
     "name": "stdout",
     "output_type": "stream",
     "text": [
      "<__main__.Person object at 0x000001D32FD67208>\n"
     ]
    },
    {
     "data": {
      "text/plain": [
       "'이재찬'"
      ]
     },
     "execution_count": 22,
     "metadata": {},
     "output_type": "execute_result"
    }
   ],
   "source": [
    "p1. instance_method()"
   ]
  },
  {
   "cell_type": "code",
   "execution_count": 26,
   "metadata": {},
   "outputs": [],
   "source": [
    "[5, 2, 1].sort()"
   ]
  },
  {
   "cell_type": "code",
   "execution_count": 27,
   "metadata": {},
   "outputs": [
    {
     "data": {
      "text/plain": [
       "[1, 2, 5]"
      ]
     },
     "execution_count": 27,
     "metadata": {},
     "output_type": "execute_result"
    }
   ],
   "source": [
    "sorted([5, 2, 1])"
   ]
  },
  {
   "cell_type": "code",
   "execution_count": null,
   "metadata": {},
   "outputs": [],
   "source": [
    "# out[27] 이런식으로 뜨는 것은 그 구문의 마지막에 있는 것이 리턴을 반환하는 것이라면 out이 찍힌다."
   ]
  },
  {
   "cell_type": "code",
   "execution_count": 28,
   "metadata": {},
   "outputs": [],
   "source": [
    "class Student(Person):\n",
    "    title = '학생입니다'"
   ]
  },
  {
   "cell_type": "code",
   "execution_count": 29,
   "metadata": {},
   "outputs": [],
   "source": [
    "s1 = Student('박성민', 1)"
   ]
  },
  {
   "cell_type": "code",
   "execution_count": 30,
   "metadata": {},
   "outputs": [
    {
     "name": "stdout",
     "output_type": "stream",
     "text": [
      "<__main__.Student object at 0x000001D32FE13128>\n",
      "안녕?!\n"
     ]
    }
   ],
   "source": [
    "s1.greeting()"
   ]
  },
  {
   "cell_type": "code",
   "execution_count": 31,
   "metadata": {},
   "outputs": [
    {
     "name": "stdout",
     "output_type": "stream",
     "text": [
      "<class '__main__.Person'>\n",
      "사람입니다.\n"
     ]
    }
   ],
   "source": [
    "Person.class_method()"
   ]
  },
  {
   "cell_type": "code",
   "execution_count": 32,
   "metadata": {},
   "outputs": [
    {
     "name": "stdout",
     "output_type": "stream",
     "text": [
      "<class '__main__.Student'>\n",
      "학생입니다\n"
     ]
    }
   ],
   "source": [
    "Student.class_method()"
   ]
  },
  {
   "cell_type": "code",
   "execution_count": null,
   "metadata": {},
   "outputs": [],
   "source": []
  }
 ],
 "metadata": {
  "kernelspec": {
   "display_name": "Python 3",
   "language": "python",
   "name": "python3"
  },
  "language_info": {
   "codemirror_mode": {
    "name": "ipython",
    "version": 3
   },
   "file_extension": ".py",
   "mimetype": "text/x-python",
   "name": "python",
   "nbconvert_exporter": "python",
   "pygments_lexer": "ipython3",
   "version": "3.6.7"
  }
 },
 "nbformat": 4,
 "nbformat_minor": 2
}
